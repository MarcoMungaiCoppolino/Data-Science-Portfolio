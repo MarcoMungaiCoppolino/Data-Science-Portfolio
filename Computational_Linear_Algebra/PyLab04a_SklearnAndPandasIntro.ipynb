{
 "cells": [
  {
   "cell_type": "markdown",
   "id": "outstanding-acrobat",
   "metadata": {},
   "source": [
    "# Python Lab 04a: Introduction to Scikit-Learn (PCA, Kmeans, etc.) and to Pandas\n",
    "\n",
    "## Francesco Della Santa, Computational Linear Algebra for Large Scale Problems, Politecnico di Torino"
   ]
  },
  {
   "cell_type": "markdown",
   "id": "bef7cdc8-541e-4915-9761-a6420c868f47",
   "metadata": {},
   "source": [
    "## Initialize PCA objects"
   ]
  },
  {
   "cell_type": "code",
   "execution_count": null,
   "id": "94005a2d-928b-4a67-865a-2cb9c48c39ec",
   "metadata": {},
   "outputs": [],
   "source": [
    "pca_general = PCA()\n",
    "pca_perc = PCA(n_components=0.5, svd_solver='full')\n",
    "pca_ncomp = PCA(n_components=7)"
   ]
  },
  {
   "cell_type": "code",
   "execution_count": null,
   "id": "19fa2adf-9412-4fc0-ac77-69adab6d0011",
   "metadata": {},
   "outputs": [],
   "source": [
    "N, n = 1000, 100\n",
    "S = np.random.rand(N, n)\n",
    "\n",
    "# Start using the pca object\n",
    "pca_ncomp.fit(S)\n",
    "pca_perc.fit(S)\n",
    "\n",
    "# Representation of S in the m-dim space of PCs\n",
    "Qm_ncomp = pca_ncomp.transform(S)\n",
    "Qm_perc = pca_perc.transform(S)\n",
    "\n",
    "# Approximation of S obtained using m PCs\n",
    "Stilde_ncomp = pca_ncomp.inverse_transform(Qm_ncomp)\n",
    "Stilde_perc = pca_perc.inverse_transform(Qm_perc)\n",
    "\n",
    "print('*********************** DATASET S ***********************')\n",
    "display(S)\n",
    "print('*********************************************************')\n",
    "print('')\n",
    "print(f'*********************** DATASET PROJECTED (ncomp: {pca_ncomp.n_components_} PCs) ***********************')\n",
    "display(Qm_ncomp)\n",
    "print('*********************************************************************************************************')\n",
    "print('')\n",
    "print(f'*********************** DATASET PROJECTED (perc: {pca_perc.n_components_} PCs) ************************')\n",
    "display(Qm_perc)\n",
    "print('********************************************************************************************************')\n",
    "print('')\n",
    "print('*********************** RECOVERED DATASET S (ncomp) ***********************')\n",
    "display(Stilde_ncomp)\n",
    "print('***************************************************************************')\n",
    "print('')\n",
    "print('*********************** RECOVERED DATASET S (perc) ***********************')\n",
    "display(Stilde_perc)\n",
    "print('**************************************************************************')"
   ]
  },
  {
   "cell_type": "code",
   "execution_count": null,
   "id": "bed106bd-11e1-4ea9-aa9c-e72d2231c2e9",
   "metadata": {},
   "outputs": [],
   "source": [
    "display(pca_ncomp.explained_variance_ratio_)"
   ]
  },
  {
   "cell_type": "code",
   "execution_count": null,
   "id": "ce65a649-e50e-4b3f-a1f7-e9c96d271472",
   "metadata": {},
   "outputs": [],
   "source": [
    "scaler_recent = StandardScaler(with_std=False)\n",
    "scaler_znorm = StandardScaler()\n",
    "# Start using the scaler objects\n",
    "scaler_recent.fit(S)\n",
    "scaler_znorm.fit(S)\n",
    "# recentered S\n",
    "Sbar = scaler_recent.transform(S)\n",
    "# standardized S\n",
    "Shat = scaler_znorm.transform(S)\n",
    "\n",
    "print(f'*********************** DATASET RECENTERED ***********************')\n",
    "print('SAMPLE MEAN OF RECENTERED DATA:')\n",
    "display(Sbar.mean(axis=1)[:10])\n",
    "print('SAMPLE ST.DEV. OF RECENTERED DATA:')\n",
    "display(Sbar.std(axis=1)[:10])\n",
    "print('')\n",
    "display(Sbar)\n",
    "print('*******************************************************************')\n",
    "print('')\n",
    "print(f'*********************** DATASET STANDARDIZED ***********************')\n",
    "print('SAMPLE MEAN OF STANDARDIZED DATA:')\n",
    "display(Shat.mean(axis=1)[:10])\n",
    "print('SAMPLE ST.DEV. OF STANDARDIZED DATA:')\n",
    "display(Shat.std(axis=1)[:10])\n",
    "print('')\n",
    "display(Shat)\n",
    "print('**********************************************************************')"
   ]
  },
  {
   "cell_type": "markdown",
   "id": "575cef0b-2f36-4809-a2f5-0f81bffa331c",
   "metadata": {},
   "source": [
    "### Let's apply the PCA to standardized data"
   ]
  },
  {
   "cell_type": "markdown",
   "id": "af680f65-9ac7-4339-972f-b3d7594806d2",
   "metadata": {},
   "source": [
    "## Initialize $k$-Means"
   ]
  },
  {
   "cell_type": "code",
   "execution_count": null,
   "id": "2ae12d2b-7b8a-4870-bcc7-0b5dbdae3d3b",
   "metadata": {},
   "outputs": [],
   "source": [
    "kmeans_default = KMeans()\n",
    "kmeans_3c = KMeans(n_clusters=3, init='random', algorithm='full')\n",
    "\n",
    "W0 = np.random.rand(3, 10)\n",
    "kmeans_3cW0 = KMeans(n_clusters=3, init=W0, algorithm='full')"
   ]
  },
  {
   "cell_type": "code",
   "execution_count": null,
   "id": "aed49574-eb7f-490d-b8b6-287682cdc295",
   "metadata": {},
   "outputs": [],
   "source": [
    "Snew = np.random.rand(N, n)\n",
    "\n",
    "km = kmeans_3c  # change the KMeans object here if you want to try another one\n",
    "\n",
    "# Start using the km object, fitting it on the data S\n",
    "km.fit(S)\n",
    "\n",
    "# Prediction of cluster belonging w.r.t. S\n",
    "S_labels = km.labels_\n",
    "\n",
    "# Prediction of cluster belonging w.r.t. Snew\n",
    "Snew_labels = km.predict(Snew)\n",
    "\n",
    "print(f'*********************** S labels ***********************')\n",
    "display(S_labels[:10])\n",
    "print('*********************************************************')\n",
    "print('')\n",
    "print(f'*********************** Snew labels ***********************')\n",
    "display(Snew_labels[:10])\n",
    "print('************************************************************')"
   ]
  },
  {
   "cell_type": "markdown",
   "id": "sustained-poison",
   "metadata": {},
   "source": [
    "## Initialize Serieses\n",
    "\n",
    "### Using Arrays"
   ]
  },
  {
   "cell_type": "code",
   "execution_count": null,
   "id": "behind-engineer",
   "metadata": {},
   "outputs": [],
   "source": [
    "s1 = pd.Series(x, index=[f'index{i}' for i in range(1,11)], name='my_series1')\n",
    "s2 = pd.Series(x, name='my_series2')"
   ]
  },
  {
   "cell_type": "code",
   "execution_count": null,
   "id": "healthy-ridge",
   "metadata": {},
   "outputs": [],
   "source": [
    "s1 "
   ]
  },
  {
   "cell_type": "markdown",
   "id": "relevant-procedure",
   "metadata": {},
   "source": [
    "### Using Dictionaries"
   ]
  },
  {
   "cell_type": "code",
   "execution_count": null,
   "id": "auburn-bacteria",
   "metadata": {},
   "outputs": [],
   "source": [
    "d = {'Age':30, 'Height':185, 'Weight':90}\n",
    "d"
   ]
  },
  {
   "cell_type": "code",
   "execution_count": null,
   "id": "allied-sample",
   "metadata": {},
   "outputs": [],
   "source": [
    "s1d"
   ]
  },
  {
   "cell_type": "markdown",
   "id": "enabling-nylon",
   "metadata": {},
   "source": [
    "## Initialize DataFrames\n",
    "\n",
    "### Using Dictionaries"
   ]
  },
  {
   "cell_type": "code",
   "execution_count": null,
   "id": "rising-declaration",
   "metadata": {},
   "outputs": [],
   "source": [
    "df1d = pd.DataFrame(D)\n",
    "df1d"
   ]
  },
  {
   "cell_type": "code",
   "execution_count": null,
   "id": "temporal-strap",
   "metadata": {},
   "outputs": [],
   "source": [
    "df1d.dtypes"
   ]
  },
  {
   "cell_type": "code",
   "execution_count": null,
   "id": "banned-harbor",
   "metadata": {},
   "outputs": [],
   "source": [
    "X = np.random.rand(10,5)\n",
    "X"
   ]
  },
  {
   "cell_type": "code",
   "execution_count": null,
   "id": "generic-franklin",
   "metadata": {},
   "outputs": [],
   "source": [
    "df1 = pd.DataFrame(X, index=range(1, X.shape[0] + 1), columns=[f'column_{i}' for i in range(1, X.shape[1] + 1)])\n",
    "df1"
   ]
  },
  {
   "cell_type": "code",
   "execution_count": null,
   "id": "scheduled-civilian",
   "metadata": {},
   "outputs": [],
   "source": [
    "df1['column_2']"
   ]
  },
  {
   "cell_type": "code",
   "execution_count": null,
   "id": "altered-clerk",
   "metadata": {},
   "outputs": [],
   "source": [
    "df1['column_6'] = np.random.rand(10)\n",
    "df1"
   ]
  },
  {
   "cell_type": "code",
   "execution_count": null,
   "id": "municipal-shell",
   "metadata": {},
   "outputs": [],
   "source": [
    "df1.at[6, 'column_2']"
   ]
  },
  {
   "cell_type": "code",
   "execution_count": null,
   "id": "super-martial",
   "metadata": {
    "tags": []
   },
   "outputs": [],
   "source": [
    "df1.index"
   ]
  },
  {
   "cell_type": "code",
   "execution_count": null,
   "id": "median-shopping",
   "metadata": {},
   "outputs": [],
   "source": [
    "df1.axes"
   ]
  },
  {
   "cell_type": "code",
   "execution_count": null,
   "id": "adolescent-morrison",
   "metadata": {},
   "outputs": [],
   "source": [
    "df1.loc[[1,7,10], :]"
   ]
  },
  {
   "cell_type": "code",
   "execution_count": null,
   "id": "surprising-duplicate",
   "metadata": {},
   "outputs": [],
   "source": [
    "df1.iloc[[0,6,9],[0,2]]"
   ]
  },
  {
   "cell_type": "code",
   "execution_count": null,
   "id": "grave-acrobat",
   "metadata": {},
   "outputs": [],
   "source": [
    "df1.loc[(df1.index > 3) & (df1.index <= 7), df1.columns != 'column_3']"
   ]
  },
  {
   "cell_type": "code",
   "execution_count": null,
   "id": "south-wayne",
   "metadata": {},
   "outputs": [],
   "source": [
    "df1.ndim"
   ]
  },
  {
   "cell_type": "code",
   "execution_count": null,
   "id": "incredible-negative",
   "metadata": {},
   "outputs": [],
   "source": [
    "df1.size"
   ]
  },
  {
   "cell_type": "markdown",
   "id": "incorporated-freedom",
   "metadata": {},
   "source": [
    "## DataFrame Methods\n",
    "\n",
    "We use the DataFrame df1 defined above."
   ]
  },
  {
   "cell_type": "markdown",
   "id": "novel-affair",
   "metadata": {},
   "source": [
    "### Exploration Methods"
   ]
  },
  {
   "cell_type": "code",
   "execution_count": null,
   "id": "thirty-shower",
   "metadata": {},
   "outputs": [],
   "source": [
    "df1.tail(2)"
   ]
  },
  {
   "cell_type": "code",
   "execution_count": null,
   "id": "miniature-feeling",
   "metadata": {},
   "outputs": [],
   "source": [
    "df1.info()"
   ]
  },
  {
   "cell_type": "code",
   "execution_count": null,
   "id": "absent-words",
   "metadata": {},
   "outputs": [],
   "source": [
    "df1.isna()"
   ]
  },
  {
   "cell_type": "code",
   "execution_count": null,
   "id": "legislative-franchise",
   "metadata": {},
   "outputs": [],
   "source": [
    "df1.value_counts()"
   ]
  },
  {
   "cell_type": "markdown",
   "id": "nominated-sellers",
   "metadata": {},
   "source": [
    "### Statistical Analysis (Basic) and Operations"
   ]
  },
  {
   "cell_type": "code",
   "execution_count": null,
   "id": "considerable-spouse",
   "metadata": {},
   "outputs": [],
   "source": [
    "df1.describe()"
   ]
  },
  {
   "cell_type": "code",
   "execution_count": null,
   "id": "compliant-skirt",
   "metadata": {},
   "outputs": [],
   "source": [
    "df1.mean()"
   ]
  },
  {
   "cell_type": "code",
   "execution_count": null,
   "id": "ordered-wound",
   "metadata": {},
   "outputs": [],
   "source": [
    "df1.mean(axis=1)"
   ]
  },
  {
   "cell_type": "code",
   "execution_count": null,
   "id": "stopped-treasurer",
   "metadata": {},
   "outputs": [],
   "source": [
    "df1.cov()"
   ]
  },
  {
   "cell_type": "code",
   "execution_count": null,
   "id": "recorded-hydrogen",
   "metadata": {},
   "outputs": [],
   "source": [
    "df1.sample(3, random_state=10)"
   ]
  },
  {
   "cell_type": "code",
   "execution_count": null,
   "id": "continental-bahrain",
   "metadata": {},
   "outputs": [],
   "source": [
    "df1_copy = df1.copy()\n",
    "df1_fakecopy = df1"
   ]
  },
  {
   "cell_type": "code",
   "execution_count": 54,
   "id": "registered-windsor",
   "metadata": {},
   "outputs": [],
   "source": [
    "df1_copy.at[1, 'column_1'] = np.nan"
   ]
  },
  {
   "cell_type": "code",
   "execution_count": 55,
   "id": "blond-lawsuit",
   "metadata": {},
   "outputs": [
    {
     "data": {
      "text/html": [
       "<div>\n",
       "<style scoped>\n",
       "    .dataframe tbody tr th:only-of-type {\n",
       "        vertical-align: middle;\n",
       "    }\n",
       "\n",
       "    .dataframe tbody tr th {\n",
       "        vertical-align: top;\n",
       "    }\n",
       "\n",
       "    .dataframe thead th {\n",
       "        text-align: right;\n",
       "    }\n",
       "</style>\n",
       "<table border=\"1\" class=\"dataframe\">\n",
       "  <thead>\n",
       "    <tr style=\"text-align: right;\">\n",
       "      <th></th>\n",
       "      <th>column_1</th>\n",
       "      <th>column_2</th>\n",
       "      <th>column_3</th>\n",
       "      <th>column_4</th>\n",
       "      <th>column_5</th>\n",
       "      <th>column_6</th>\n",
       "    </tr>\n",
       "  </thead>\n",
       "  <tbody>\n",
       "    <tr>\n",
       "      <th>1</th>\n",
       "      <td>NaN</td>\n",
       "      <td>0.140012</td>\n",
       "      <td>0.531234</td>\n",
       "      <td>0.165353</td>\n",
       "      <td>0.088709</td>\n",
       "      <td>0.683145</td>\n",
       "    </tr>\n",
       "    <tr>\n",
       "      <th>2</th>\n",
       "      <td>0.609878</td>\n",
       "      <td>0.416714</td>\n",
       "      <td>0.699228</td>\n",
       "      <td>0.625884</td>\n",
       "      <td>0.812659</td>\n",
       "      <td>0.767364</td>\n",
       "    </tr>\n",
       "    <tr>\n",
       "      <th>3</th>\n",
       "      <td>0.042694</td>\n",
       "      <td>0.232033</td>\n",
       "      <td>0.926032</td>\n",
       "      <td>0.468576</td>\n",
       "      <td>0.863292</td>\n",
       "      <td>0.280647</td>\n",
       "    </tr>\n",
       "    <tr>\n",
       "      <th>4</th>\n",
       "      <td>0.721244</td>\n",
       "      <td>0.312770</td>\n",
       "      <td>0.048949</td>\n",
       "      <td>0.326429</td>\n",
       "      <td>0.889583</td>\n",
       "      <td>0.275205</td>\n",
       "    </tr>\n",
       "    <tr>\n",
       "      <th>5</th>\n",
       "      <td>0.899971</td>\n",
       "      <td>0.320781</td>\n",
       "      <td>0.534496</td>\n",
       "      <td>0.052321</td>\n",
       "      <td>0.003123</td>\n",
       "      <td>0.933706</td>\n",
       "    </tr>\n",
       "    <tr>\n",
       "      <th>6</th>\n",
       "      <td>0.061559</td>\n",
       "      <td>0.665399</td>\n",
       "      <td>0.216179</td>\n",
       "      <td>0.599082</td>\n",
       "      <td>0.187164</td>\n",
       "      <td>0.680909</td>\n",
       "    </tr>\n",
       "    <tr>\n",
       "      <th>7</th>\n",
       "      <td>0.546871</td>\n",
       "      <td>0.754177</td>\n",
       "      <td>0.600196</td>\n",
       "      <td>0.720230</td>\n",
       "      <td>0.241982</td>\n",
       "      <td>0.607568</td>\n",
       "    </tr>\n",
       "    <tr>\n",
       "      <th>8</th>\n",
       "      <td>0.484939</td>\n",
       "      <td>0.824883</td>\n",
       "      <td>0.622044</td>\n",
       "      <td>0.834157</td>\n",
       "      <td>0.516021</td>\n",
       "      <td>0.667472</td>\n",
       "    </tr>\n",
       "    <tr>\n",
       "      <th>9</th>\n",
       "      <td>0.519302</td>\n",
       "      <td>0.346196</td>\n",
       "      <td>0.213139</td>\n",
       "      <td>0.083989</td>\n",
       "      <td>0.850591</td>\n",
       "      <td>0.630632</td>\n",
       "    </tr>\n",
       "    <tr>\n",
       "      <th>10</th>\n",
       "      <td>0.959985</td>\n",
       "      <td>0.506661</td>\n",
       "      <td>0.442680</td>\n",
       "      <td>0.080178</td>\n",
       "      <td>0.892358</td>\n",
       "      <td>0.210362</td>\n",
       "    </tr>\n",
       "  </tbody>\n",
       "</table>\n",
       "</div>"
      ],
      "text/plain": [
       "    column_1  column_2  column_3  column_4  column_5  column_6\n",
       "1        NaN  0.140012  0.531234  0.165353  0.088709  0.683145\n",
       "2   0.609878  0.416714  0.699228  0.625884  0.812659  0.767364\n",
       "3   0.042694  0.232033  0.926032  0.468576  0.863292  0.280647\n",
       "4   0.721244  0.312770  0.048949  0.326429  0.889583  0.275205\n",
       "5   0.899971  0.320781  0.534496  0.052321  0.003123  0.933706\n",
       "6   0.061559  0.665399  0.216179  0.599082  0.187164  0.680909\n",
       "7   0.546871  0.754177  0.600196  0.720230  0.241982  0.607568\n",
       "8   0.484939  0.824883  0.622044  0.834157  0.516021  0.667472\n",
       "9   0.519302  0.346196  0.213139  0.083989  0.850591  0.630632\n",
       "10  0.959985  0.506661  0.442680  0.080178  0.892358  0.210362"
      ]
     },
     "execution_count": 55,
     "metadata": {},
     "output_type": "execute_result"
    }
   ],
   "source": [
    "df1_copy"
   ]
  },
  {
   "cell_type": "markdown",
   "id": "twenty-cinema",
   "metadata": {},
   "source": [
    "(Notare che la modifica fatta a df1_fakecopy ha modificato anche df1!)"
   ]
  },
  {
   "cell_type": "code",
   "execution_count": 59,
   "id": "unable-israeli",
   "metadata": {},
   "outputs": [
    {
     "data": {
      "text/html": [
       "<div>\n",
       "<style scoped>\n",
       "    .dataframe tbody tr th:only-of-type {\n",
       "        vertical-align: middle;\n",
       "    }\n",
       "\n",
       "    .dataframe tbody tr th {\n",
       "        vertical-align: top;\n",
       "    }\n",
       "\n",
       "    .dataframe thead th {\n",
       "        text-align: right;\n",
       "    }\n",
       "</style>\n",
       "<table border=\"1\" class=\"dataframe\">\n",
       "  <thead>\n",
       "    <tr style=\"text-align: right;\">\n",
       "      <th></th>\n",
       "      <th>column_1</th>\n",
       "      <th>column_2</th>\n",
       "      <th>column_3</th>\n",
       "      <th>column_4</th>\n",
       "      <th>column_5</th>\n",
       "      <th>column_6</th>\n",
       "    </tr>\n",
       "  </thead>\n",
       "  <tbody>\n",
       "    <tr>\n",
       "      <th>2</th>\n",
       "      <td>0.609878</td>\n",
       "      <td>0.416714</td>\n",
       "      <td>0.699228</td>\n",
       "      <td>0.625884</td>\n",
       "      <td>0.812659</td>\n",
       "      <td>0.767364</td>\n",
       "    </tr>\n",
       "    <tr>\n",
       "      <th>3</th>\n",
       "      <td>0.042694</td>\n",
       "      <td>0.232033</td>\n",
       "      <td>0.926032</td>\n",
       "      <td>0.468576</td>\n",
       "      <td>0.863292</td>\n",
       "      <td>0.280647</td>\n",
       "    </tr>\n",
       "    <tr>\n",
       "      <th>4</th>\n",
       "      <td>0.721244</td>\n",
       "      <td>0.312770</td>\n",
       "      <td>0.048949</td>\n",
       "      <td>0.326429</td>\n",
       "      <td>0.889583</td>\n",
       "      <td>0.275205</td>\n",
       "    </tr>\n",
       "    <tr>\n",
       "      <th>5</th>\n",
       "      <td>0.899971</td>\n",
       "      <td>0.320781</td>\n",
       "      <td>0.534496</td>\n",
       "      <td>0.052321</td>\n",
       "      <td>0.003123</td>\n",
       "      <td>0.933706</td>\n",
       "    </tr>\n",
       "    <tr>\n",
       "      <th>6</th>\n",
       "      <td>0.061559</td>\n",
       "      <td>0.665399</td>\n",
       "      <td>0.216179</td>\n",
       "      <td>0.599082</td>\n",
       "      <td>0.187164</td>\n",
       "      <td>0.680909</td>\n",
       "    </tr>\n",
       "    <tr>\n",
       "      <th>7</th>\n",
       "      <td>0.546871</td>\n",
       "      <td>0.754177</td>\n",
       "      <td>0.600196</td>\n",
       "      <td>0.720230</td>\n",
       "      <td>0.241982</td>\n",
       "      <td>0.607568</td>\n",
       "    </tr>\n",
       "    <tr>\n",
       "      <th>8</th>\n",
       "      <td>0.484939</td>\n",
       "      <td>0.824883</td>\n",
       "      <td>0.622044</td>\n",
       "      <td>0.834157</td>\n",
       "      <td>0.516021</td>\n",
       "      <td>0.667472</td>\n",
       "    </tr>\n",
       "    <tr>\n",
       "      <th>9</th>\n",
       "      <td>0.519302</td>\n",
       "      <td>0.346196</td>\n",
       "      <td>0.213139</td>\n",
       "      <td>0.083989</td>\n",
       "      <td>0.850591</td>\n",
       "      <td>0.630632</td>\n",
       "    </tr>\n",
       "    <tr>\n",
       "      <th>10</th>\n",
       "      <td>0.959985</td>\n",
       "      <td>0.506661</td>\n",
       "      <td>0.442680</td>\n",
       "      <td>0.080178</td>\n",
       "      <td>0.892358</td>\n",
       "      <td>0.210362</td>\n",
       "    </tr>\n",
       "  </tbody>\n",
       "</table>\n",
       "</div>"
      ],
      "text/plain": [
       "    column_1  column_2  column_3  column_4  column_5  column_6\n",
       "2   0.609878  0.416714  0.699228  0.625884  0.812659  0.767364\n",
       "3   0.042694  0.232033  0.926032  0.468576  0.863292  0.280647\n",
       "4   0.721244  0.312770  0.048949  0.326429  0.889583  0.275205\n",
       "5   0.899971  0.320781  0.534496  0.052321  0.003123  0.933706\n",
       "6   0.061559  0.665399  0.216179  0.599082  0.187164  0.680909\n",
       "7   0.546871  0.754177  0.600196  0.720230  0.241982  0.607568\n",
       "8   0.484939  0.824883  0.622044  0.834157  0.516021  0.667472\n",
       "9   0.519302  0.346196  0.213139  0.083989  0.850591  0.630632\n",
       "10  0.959985  0.506661  0.442680  0.080178  0.892358  0.210362"
      ]
     },
     "execution_count": 59,
     "metadata": {},
     "output_type": "execute_result"
    }
   ],
   "source": [
    "df1_copy.dropna()"
   ]
  },
  {
   "cell_type": "code",
   "execution_count": 62,
   "id": "pretty-thanks",
   "metadata": {},
   "outputs": [
    {
     "data": {
      "text/html": [
       "<div>\n",
       "<style scoped>\n",
       "    .dataframe tbody tr th:only-of-type {\n",
       "        vertical-align: middle;\n",
       "    }\n",
       "\n",
       "    .dataframe tbody tr th {\n",
       "        vertical-align: top;\n",
       "    }\n",
       "\n",
       "    .dataframe thead th {\n",
       "        text-align: right;\n",
       "    }\n",
       "</style>\n",
       "<table border=\"1\" class=\"dataframe\">\n",
       "  <thead>\n",
       "    <tr style=\"text-align: right;\">\n",
       "      <th></th>\n",
       "      <th>index</th>\n",
       "      <th>column_1</th>\n",
       "      <th>column_2</th>\n",
       "      <th>column_3</th>\n",
       "      <th>column_4</th>\n",
       "      <th>column_5</th>\n",
       "      <th>column_6</th>\n",
       "    </tr>\n",
       "  </thead>\n",
       "  <tbody>\n",
       "    <tr>\n",
       "      <th>0</th>\n",
       "      <td>1</td>\n",
       "      <td>NaN</td>\n",
       "      <td>0.140012</td>\n",
       "      <td>0.531234</td>\n",
       "      <td>0.165353</td>\n",
       "      <td>0.088709</td>\n",
       "      <td>0.683145</td>\n",
       "    </tr>\n",
       "    <tr>\n",
       "      <th>1</th>\n",
       "      <td>2</td>\n",
       "      <td>0.609878</td>\n",
       "      <td>0.416714</td>\n",
       "      <td>0.699228</td>\n",
       "      <td>0.625884</td>\n",
       "      <td>0.812659</td>\n",
       "      <td>0.767364</td>\n",
       "    </tr>\n",
       "    <tr>\n",
       "      <th>2</th>\n",
       "      <td>3</td>\n",
       "      <td>0.042694</td>\n",
       "      <td>0.232033</td>\n",
       "      <td>0.926032</td>\n",
       "      <td>0.468576</td>\n",
       "      <td>0.863292</td>\n",
       "      <td>0.280647</td>\n",
       "    </tr>\n",
       "    <tr>\n",
       "      <th>3</th>\n",
       "      <td>4</td>\n",
       "      <td>0.721244</td>\n",
       "      <td>0.312770</td>\n",
       "      <td>0.048949</td>\n",
       "      <td>0.326429</td>\n",
       "      <td>0.889583</td>\n",
       "      <td>0.275205</td>\n",
       "    </tr>\n",
       "    <tr>\n",
       "      <th>4</th>\n",
       "      <td>5</td>\n",
       "      <td>0.899971</td>\n",
       "      <td>0.320781</td>\n",
       "      <td>0.534496</td>\n",
       "      <td>0.052321</td>\n",
       "      <td>0.003123</td>\n",
       "      <td>0.933706</td>\n",
       "    </tr>\n",
       "    <tr>\n",
       "      <th>5</th>\n",
       "      <td>6</td>\n",
       "      <td>0.061559</td>\n",
       "      <td>0.665399</td>\n",
       "      <td>0.216179</td>\n",
       "      <td>0.599082</td>\n",
       "      <td>0.187164</td>\n",
       "      <td>0.680909</td>\n",
       "    </tr>\n",
       "    <tr>\n",
       "      <th>6</th>\n",
       "      <td>7</td>\n",
       "      <td>0.546871</td>\n",
       "      <td>0.754177</td>\n",
       "      <td>0.600196</td>\n",
       "      <td>0.720230</td>\n",
       "      <td>0.241982</td>\n",
       "      <td>0.607568</td>\n",
       "    </tr>\n",
       "    <tr>\n",
       "      <th>7</th>\n",
       "      <td>8</td>\n",
       "      <td>0.484939</td>\n",
       "      <td>0.824883</td>\n",
       "      <td>0.622044</td>\n",
       "      <td>0.834157</td>\n",
       "      <td>0.516021</td>\n",
       "      <td>0.667472</td>\n",
       "    </tr>\n",
       "    <tr>\n",
       "      <th>8</th>\n",
       "      <td>9</td>\n",
       "      <td>0.519302</td>\n",
       "      <td>0.346196</td>\n",
       "      <td>0.213139</td>\n",
       "      <td>0.083989</td>\n",
       "      <td>0.850591</td>\n",
       "      <td>0.630632</td>\n",
       "    </tr>\n",
       "    <tr>\n",
       "      <th>9</th>\n",
       "      <td>10</td>\n",
       "      <td>0.959985</td>\n",
       "      <td>0.506661</td>\n",
       "      <td>0.442680</td>\n",
       "      <td>0.080178</td>\n",
       "      <td>0.892358</td>\n",
       "      <td>0.210362</td>\n",
       "    </tr>\n",
       "  </tbody>\n",
       "</table>\n",
       "</div>"
      ],
      "text/plain": [
       "   index  column_1  column_2  column_3  column_4  column_5  column_6\n",
       "0      1       NaN  0.140012  0.531234  0.165353  0.088709  0.683145\n",
       "1      2  0.609878  0.416714  0.699228  0.625884  0.812659  0.767364\n",
       "2      3  0.042694  0.232033  0.926032  0.468576  0.863292  0.280647\n",
       "3      4  0.721244  0.312770  0.048949  0.326429  0.889583  0.275205\n",
       "4      5  0.899971  0.320781  0.534496  0.052321  0.003123  0.933706\n",
       "5      6  0.061559  0.665399  0.216179  0.599082  0.187164  0.680909\n",
       "6      7  0.546871  0.754177  0.600196  0.720230  0.241982  0.607568\n",
       "7      8  0.484939  0.824883  0.622044  0.834157  0.516021  0.667472\n",
       "8      9  0.519302  0.346196  0.213139  0.083989  0.850591  0.630632\n",
       "9     10  0.959985  0.506661  0.442680  0.080178  0.892358  0.210362"
      ]
     },
     "execution_count": 62,
     "metadata": {},
     "output_type": "execute_result"
    }
   ],
   "source": [
    "df1_copy.reset_index()"
   ]
  },
  {
   "cell_type": "markdown",
   "id": "devoted-movement",
   "metadata": {},
   "source": [
    "### Exportation Methods"
   ]
  },
  {
   "cell_type": "code",
   "execution_count": 64,
   "id": "generic-employee",
   "metadata": {},
   "outputs": [],
   "source": [
    "df1.to_csv('df1.csv', columns=['column_1', 'column_5', 'column_2'], index_label='ID')"
   ]
  },
  {
   "cell_type": "markdown",
   "id": "registered-shannon",
   "metadata": {},
   "source": [
    "## Loading a DataFrame"
   ]
  },
  {
   "cell_type": "code",
   "execution_count": null,
   "id": "computational-fairy",
   "metadata": {},
   "outputs": [],
   "source": []
  }
 ],
 "metadata": {
  "kernelspec": {
   "display_name": "Python 3 (ipykernel)",
   "language": "python",
   "name": "python3"
  },
  "language_info": {
   "codemirror_mode": {
    "name": "ipython",
    "version": 3
   },
   "file_extension": ".py",
   "mimetype": "text/x-python",
   "name": "python",
   "nbconvert_exporter": "python",
   "pygments_lexer": "ipython3",
   "version": "3.9.7"
  }
 },
 "nbformat": 4,
 "nbformat_minor": 5
}
