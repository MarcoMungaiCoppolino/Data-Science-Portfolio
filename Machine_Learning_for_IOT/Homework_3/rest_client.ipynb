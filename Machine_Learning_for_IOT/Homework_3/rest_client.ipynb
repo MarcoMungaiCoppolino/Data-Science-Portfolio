{
 "cells": [
  {
   "cell_type": "markdown",
   "metadata": {
    "cell_id": "1468c981ca7841fc8f07e4a6e156c2b0",
    "deepnote_cell_type": "markdown"
   },
   "source": [
    "# REST client"
   ]
  },
  {
   "cell_type": "markdown",
   "metadata": {
    "cell_id": "6fb3bacbec3b49f5afe5e690c1f98eed",
    "deepnote_cell_type": "markdown"
   },
   "source": [
    "## Import the required models"
   ]
  },
  {
   "cell_type": "code",
   "execution_count": 1,
   "metadata": {
    "cell_id": "d45a12d81eff476fb01dcf6d931a122e",
    "deepnote_cell_type": "code",
    "execution_context_id": "b6681884-3cd0-4773-8508-96b96af9c918",
    "execution_millis": 0,
    "execution_start": 1738167721086,
    "source_hash": "efaa6156"
   },
   "outputs": [],
   "source": [
    "import requests\n",
    "import pandas as pd"
   ]
  },
  {
   "cell_type": "markdown",
   "metadata": {
    "cell_id": "330874f2c235475a85a5ef0ac99737bf",
    "deepnote_cell_type": "markdown"
   },
   "source": [
    "## Status Server Check"
   ]
  },
  {
   "cell_type": "code",
   "execution_count": null,
   "metadata": {
    "cell_id": "fc02bfe539f949b19729536fe3e3a8c9",
    "deepnote_cell_type": "code",
    "execution_context_id": "b6681884-3cd0-4773-8508-96b96af9c918",
    "execution_millis": 1,
    "execution_start": 1738167721134,
    "source_hash": "d41adbf6"
   },
   "outputs": [],
   "source": [
    "# Base URL of the server\n",
    "host = \"http://0.0.0.0:8080\"\n",
    "\n",
    "# Check the service status\n",
    "response = requests.get(host + '/status')\n",
    "if response.status_code == 200:\n",
    "    # print(response.json())\n",
    "    status = response.json()['status']\n",
    "    print(f'The server is {status}.')\n",
    "else:\n",
    "    print('The server is offline.')\n",
    "    exit()\n",
    "\n"
   ]
  },
  {
   "cell_type": "markdown",
   "metadata": {
    "cell_id": "9ba4c2c13c0d46da9678a20febc3d8f2",
    "deepnote_cell_type": "markdown"
   },
   "source": [
    "## RPI sensor node addition"
   ]
  },
  {
   "cell_type": "code",
   "execution_count": null,
   "metadata": {
    "cell_id": "8ecffcb16aa24464806de9e4b9ad5198",
    "deepnote_cell_type": "code",
    "execution_context_id": "b6681884-3cd0-4773-8508-96b96af9c918",
    "execution_millis": 56,
    "execution_start": 1738167721182,
    "source_hash": "d94e8c19"
   },
   "outputs": [],
   "source": [
    "payload = {'mac_address': '0xe45f01d8f49f'}\n",
    "# Specify the request body with \"json\" argument of the post method.\n",
    "response = requests.post(host + '/sensors', json=payload)\n",
    "\n",
    "# Check the response code. The expected value is 200.\n",
    "if response.status_code == 200:\n",
    "    print('Sensor timeseries added.')\n",
    "elif response.status_code == 409:\n",
    "    print('Node already added to the server')\n",
    "else:\n",
    "    print(response.status_code, response.reason)\n",
    "    exit()"
   ]
  },
  {
   "cell_type": "markdown",
   "metadata": {
    "cell_id": "183826b1fb284ca8a9b43c100c5e20dc",
    "deepnote_cell_type": "markdown"
   },
   "source": [
    "## Temperature & humidity data retrieval"
   ]
  },
  {
   "cell_type": "code",
   "execution_count": null,
   "metadata": {
    "cell_id": "41f4c160c331439896126462be88be61",
    "deepnote_cell_type": "code",
    "execution_context_id": "b6681884-3cd0-4773-8508-96b96af9c918",
    "execution_millis": 335,
    "execution_start": 1738167721286,
    "source_hash": "21badc0f"
   },
   "outputs": [],
   "source": [
    "mac_address = '0xe45f01d8f49f'\n",
    "\n",
    "params = {\n",
    "    \"start_date\": \"2023-12-21\",\n",
    "    \"end_date\": \"2025-12-22\"\n",
    "}\n",
    "# Make the GET request\n",
    "data_response = requests.get(f\"{host}/data/{mac_address}\", params=params)\n",
    "data = data_response.json()\n",
    "display(\"Historical Data:\", data)\n",
    "\n",
    "# Create a DataFrame for visualization\n",
    "df = pd.DataFrame({\n",
    "    \"timestamp\": data[\"timestamp\"],\n",
    "    \"temperature\": data[\"temperature\"],\n",
    "    \"humidity\": data[\"humidity\"]\n",
    "})\n",
    "\n"
   ]
  },
  {
   "cell_type": "markdown",
   "metadata": {
    "cell_id": "11a35f2144794ddd91768561fe31bc46",
    "deepnote_cell_type": "markdown"
   },
   "source": [
    "## Temperature Plot"
   ]
  },
  {
   "cell_type": "code",
   "execution_count": null,
   "metadata": {
    "cell_id": "73af2966bbd04302ab8a8d86a5e7a014",
    "deepnote_cell_type": "visualization",
    "deepnote_variable_name": "df",
    "deepnote_visualization_spec": {
     "$schema": "https://vega.github.io/schema/vega-lite/v5.json",
     "config": {
      "legend": {}
     },
     "encoding": {},
     "layer": [
      {
       "layer": [
        {
         "encoding": {
          "x": {
           "axis": {
            "grid": false
           },
           "field": "timestamp",
           "scale": {
            "type": "linear",
            "zero": false
           },
           "sort": null,
           "type": "temporal"
          },
          "y": {
           "axis": {
            "grid": false
           },
           "field": "temperature",
           "format": {
            "decimals": null,
            "type": "default"
           },
           "formatType": "numberFormatFromNumberType",
           "scale": {
            "type": "linear",
            "zero": false
           },
           "sort": null,
           "type": "quantitative"
          }
         },
         "mark": {
          "clip": true,
          "color": "#2266D3",
          "tooltip": true,
          "type": "trail"
         }
        }
       ]
      }
     ],
     "title": "",
     "usermeta": {
      "tooltipDefaultMode": true
     }
    },
    "execution_context_id": "b6681884-3cd0-4773-8508-96b96af9c918",
    "execution_millis": 1,
    "execution_start": 1738167721674,
    "source_hash": "b5fc00bc"
   },
   "outputs": [],
   "source": [
    "(lambda: DeepnoteChart(df, \"\"\"{\"layer\":[{\"layer\":[{\"mark\":{\"clip\":true,\"type\":\"trail\",\"color\":\"#2266D3\",\"tooltip\":true},\"encoding\":{\"x\":{\"axis\":{\"grid\":false},\"sort\":null,\"type\":\"temporal\",\"field\":\"timestamp\",\"scale\":{\"type\":\"linear\",\"zero\":false}},\"y\":{\"axis\":{\"grid\":false},\"sort\":null,\"type\":\"quantitative\",\"field\":\"temperature\",\"scale\":{\"type\":\"linear\",\"zero\":false},\"format\":{\"type\":\"default\",\"decimals\":null},\"formatType\":\"numberFormatFromNumberType\"}}}]}],\"title\":\"\",\"config\":{\"legend\":{}},\"$schema\":\"https://vega.github.io/schema/vega-lite/v5.json\",\"encoding\":{},\"usermeta\":{\"tooltipDefaultMode\":true}}\"\"\") if 'DeepnoteChart' in globals() else _dntk.DeepnoteChart(df, \"\"\"{\"layer\":[{\"layer\":[{\"mark\":{\"clip\":true,\"type\":\"trail\",\"color\":\"#2266D3\",\"tooltip\":true},\"encoding\":{\"x\":{\"axis\":{\"grid\":false},\"sort\":null,\"type\":\"temporal\",\"field\":\"timestamp\",\"scale\":{\"type\":\"linear\",\"zero\":false}},\"y\":{\"axis\":{\"grid\":false},\"sort\":null,\"type\":\"quantitative\",\"field\":\"temperature\",\"scale\":{\"type\":\"linear\",\"zero\":false},\"format\":{\"type\":\"default\",\"decimals\":null},\"formatType\":\"numberFormatFromNumberType\"}}}]}],\"title\":\"\",\"config\":{\"legend\":{}},\"$schema\":\"https://vega.github.io/schema/vega-lite/v5.json\",\"encoding\":{},\"usermeta\":{\"tooltipDefaultMode\":true}}\"\"\"))()"
   ]
  },
  {
   "cell_type": "markdown",
   "metadata": {
    "cell_id": "f9a58848c5894e7aa00a0fcaadbbd690",
    "deepnote_cell_type": "markdown"
   },
   "source": [
    "## Humidity Plot"
   ]
  },
  {
   "cell_type": "code",
   "execution_count": null,
   "metadata": {
    "cell_id": "665b7c62512d4ab990718c404a072108",
    "deepnote_cell_type": "visualization",
    "deepnote_variable_name": "df",
    "deepnote_visualization_spec": {
     "$schema": "https://vega.github.io/schema/vega-lite/v5.json",
     "config": {
      "legend": {}
     },
     "encoding": {},
     "layer": [
      {
       "layer": [
        {
         "encoding": {
          "x": {
           "axis": {
            "grid": false
           },
           "field": "timestamp",
           "scale": {
            "type": "linear",
            "zero": false
           },
           "sort": null,
           "type": "temporal"
          },
          "y": {
           "axis": {
            "grid": false
           },
           "field": "humidity",
           "format": {
            "decimals": null,
            "type": "default"
           },
           "formatType": "numberFormatFromNumberType",
           "scale": {
            "type": "linear",
            "zero": false
           },
           "sort": null,
           "type": "quantitative"
          }
         },
         "mark": {
          "clip": true,
          "color": "#2266D3",
          "tooltip": true,
          "type": "trail"
         }
        }
       ]
      }
     ],
     "title": "",
     "usermeta": {
      "tooltipDefaultMode": true
     }
    },
    "execution_context_id": "b6681884-3cd0-4773-8508-96b96af9c918",
    "execution_millis": 1,
    "execution_start": 1738167721731,
    "source_hash": "50e1f579"
   },
   "outputs": [],
   "source": [
    "(lambda: DeepnoteChart(df, \"\"\"{\"layer\":[{\"layer\":[{\"mark\":{\"clip\":true,\"type\":\"trail\",\"color\":\"#2266D3\",\"tooltip\":true},\"encoding\":{\"x\":{\"axis\":{\"grid\":false},\"sort\":null,\"type\":\"temporal\",\"field\":\"timestamp\",\"scale\":{\"type\":\"linear\",\"zero\":false}},\"y\":{\"axis\":{\"grid\":false},\"sort\":null,\"type\":\"quantitative\",\"field\":\"humidity\",\"scale\":{\"type\":\"linear\",\"zero\":false},\"format\":{\"type\":\"default\",\"decimals\":null},\"formatType\":\"numberFormatFromNumberType\"}}}]}],\"title\":\"\",\"config\":{\"legend\":{}},\"$schema\":\"https://vega.github.io/schema/vega-lite/v5.json\",\"encoding\":{},\"usermeta\":{\"tooltipDefaultMode\":true}}\"\"\") if 'DeepnoteChart' in globals() else _dntk.DeepnoteChart(df, \"\"\"{\"layer\":[{\"layer\":[{\"mark\":{\"clip\":true,\"type\":\"trail\",\"color\":\"#2266D3\",\"tooltip\":true},\"encoding\":{\"x\":{\"axis\":{\"grid\":false},\"sort\":null,\"type\":\"temporal\",\"field\":\"timestamp\",\"scale\":{\"type\":\"linear\",\"zero\":false}},\"y\":{\"axis\":{\"grid\":false},\"sort\":null,\"type\":\"quantitative\",\"field\":\"humidity\",\"scale\":{\"type\":\"linear\",\"zero\":false},\"format\":{\"type\":\"default\",\"decimals\":null},\"formatType\":\"numberFormatFromNumberType\"}}}]}],\"title\":\"\",\"config\":{\"legend\":{}},\"$schema\":\"https://vega.github.io/schema/vega-lite/v5.json\",\"encoding\":{},\"usermeta\":{\"tooltipDefaultMode\":true}}\"\"\"))()"
   ]
  },
  {
   "cell_type": "markdown",
   "metadata": {
    "created_in_deepnote_cell": true,
    "deepnote_cell_type": "markdown"
   },
   "source": [
    "<a style='text-decoration:none;line-height:16px;display:flex;color:#5B5B62;padding:10px;justify-content:end;' href='https://deepnote.com?utm_source=created-in-deepnote-cell&projectId=5f0c18e4-6e8e-4b7e-be1d-d8fab55c80d7' target=\"_blank\">\n",
    "<img alt='Created in deepnote.com' style='display:inline;max-height:16px;margin:0px;margin-right:7.5px;' src='data:image/svg+xml;base64,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' > </img>\n",
    "Created in <span style='font-weight:600;margin-left:4px;'>Deepnote</span></a>"
   ]
  }
 ],
 "metadata": {
  "deepnote_notebook_id": "9b8fa88b839d4d6f87ae15e446425fc4",
  "language_info": {
   "name": "python"
  }
 },
 "nbformat": 4,
 "nbformat_minor": 0
}
