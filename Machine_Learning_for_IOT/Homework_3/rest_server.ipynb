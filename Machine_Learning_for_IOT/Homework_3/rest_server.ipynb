{
 "cells": [
  {
   "cell_type": "markdown",
   "metadata": {
    "cell_id": "22385a41d06f44bba4e38be4a23441ff",
    "deepnote_app_coordinates": {
     "h": 5,
     "w": 12,
     "x": 0,
     "y": 1
    },
    "deepnote_cell_type": "markdown",
    "tags": []
   },
   "source": [
    "# Sensors Analytics REST API\n",
    "\n",
    "## Deploy the API\n",
    "- Go to the *Machine* tab, then set *Incoming connections* to **ON**. The API will be accessible through the indicated tunnelling link.  \n",
    "- Run the notebook.\n",
    "\n"
   ]
  },
  {
   "cell_type": "markdown",
   "metadata": {
    "cell_id": "d0fb7f15f35648669973bd939c36e026",
    "deepnote_cell_type": "markdown"
   },
   "source": [
    "## Import the required modules"
   ]
  },
  {
   "cell_type": "code",
   "execution_count": 1,
   "metadata": {
    "cell_id": "954d7e325c944921abe2de604b198187",
    "deepnote_cell_type": "code",
    "execution_context_id": "ba5ed696-9b86-479c-8a80-c14bc8ff7827",
    "execution_millis": 299,
    "execution_start": 1738166008238,
    "source_hash": "4278bec4"
   },
   "outputs": [],
   "source": [
    "import cherrypy\n",
    "import json\n",
    "import redis\n",
    "import datetime"
   ]
  },
  {
   "cell_type": "markdown",
   "metadata": {
    "cell_id": "9962287fd7b34feb8268d0b6ad1e9c8d",
    "deepnote_cell_type": "markdown"
   },
   "source": [
    "## Connect to the Redis Database"
   ]
  },
  {
   "cell_type": "code",
   "execution_count": null,
   "metadata": {
    "cell_id": "51e908f7c6a64b83a77aabb251be80c9",
    "deepnote_cell_type": "code",
    "execution_context_id": "ba5ed696-9b86-479c-8a80-c14bc8ff7827",
    "execution_millis": 423,
    "execution_start": 1738166008585,
    "source_hash": "f06b2529"
   },
   "outputs": [],
   "source": [
    "# Redis connection setup\n",
    "REDIS_HOST = 'redis-15780.c250.eu-central-1-1.ec2.redns.redis-cloud.com'\n",
    "REDIS_PORT = 15780\n",
    "REDIS_USERNAME = 'default'\n",
    "REDIS_PASSWORD = 'DIZGajssLlzVl2kN1btFK0LKgBg36OLS'\n",
    "\n",
    "redis_client = redis.Redis(host=REDIS_HOST, port=REDIS_PORT, username=REDIS_USERNAME, password=REDIS_PASSWORD)\n",
    "\n",
    "is_connected = redis_client.ping()\n",
    "print('Redis Connected:', is_connected)"
   ]
  },
  {
   "cell_type": "markdown",
   "metadata": {
    "cell_id": "79587db5b1de4554b32665577066dec6",
    "deepnote_cell_type": "markdown"
   },
   "source": [
    "## Status Endpoint Class"
   ]
  },
  {
   "cell_type": "code",
   "execution_count": 3,
   "metadata": {
    "cell_id": "0e42c4d3ca6d4647a348d97b39886378",
    "deepnote_cell_type": "code",
    "execution_context_id": "ba5ed696-9b86-479c-8a80-c14bc8ff7827",
    "execution_millis": 1,
    "execution_start": 1738166009054,
    "source_hash": "8cd33d52"
   },
   "outputs": [],
   "source": [
    "class Status(object):\n",
    "    exposed = True\n",
    "\n",
    "    def GET(self, *path, **query):\n",
    "        response_dict = {\n",
    "            'status': 'online'\n",
    "        }\n",
    "        response = json.dumps(response_dict)\n",
    "\n",
    "        return response"
   ]
  },
  {
   "cell_type": "markdown",
   "metadata": {
    "cell_id": "f021135a90964e0faaf7deefd7b8254e",
    "deepnote_cell_type": "markdown"
   },
   "source": [
    "## Sensors Endpoint Class"
   ]
  },
  {
   "cell_type": "code",
   "execution_count": 4,
   "metadata": {
    "cell_id": "f1cda97337324262abc3cb7d9e27e286",
    "deepnote_cell_type": "code",
    "execution_context_id": "ba5ed696-9b86-479c-8a80-c14bc8ff7827",
    "execution_millis": 0,
    "execution_start": 1738166009110,
    "source_hash": "b1c6be64"
   },
   "outputs": [],
   "source": [
    "class Sensors(object):\n",
    "    exposed = True\n",
    "\n",
    "    def GET(self, *path, **query):\n",
    "        # print(query)\n",
    "        min_t_samples = int(query.get('min_t_samples', 0))\n",
    "        min_h_samples = int(query.get('min_h_samples', 0))\n",
    "        sensors = []\n",
    "        keys = redis_client.keys('0x*:temperature')\n",
    "\n",
    "        count = 0\n",
    "        for key in keys:\n",
    "            key = key.decode()\n",
    "            mac_address = key.split(':')[0]\n",
    "\n",
    "            t_info = redis_client.ts().info(f'{mac_address}:temperature')\n",
    "            t_samples = t_info.total_samples\n",
    "            t_retention = t_info.retention_msecs\n",
    "            h_info = redis_client.ts().info(f'{mac_address}:humidity')\n",
    "            h_samples = h_info.total_samples\n",
    "            h_retention = h_info.retention_msecs\n",
    "            \n",
    "            if t_samples >= min_t_samples and h_samples >= min_h_samples:\n",
    "                sensors.append(\n",
    "                    {\n",
    "                        \"mac_address\": mac_address,\n",
    "                        \"t_samples\": t_samples,\n",
    "                        \"t_retention\": t_retention,\n",
    "                        \"h_samples\": h_samples,\n",
    "                        \"h_retention\": h_retention,\n",
    "                    }\n",
    "                )\n",
    "                count += 1\n",
    "\n",
    "        response_dict = {\n",
    "            \"sensors\": sensors,\n",
    "            \"count\": count,\n",
    "        }\n",
    "\n",
    "        response = json.dumps(response_dict)\n",
    "\n",
    "        return response\n",
    "\n",
    "    def POST(self, *path, **query):\n",
    "        body = cherrypy.request.body.read()\n",
    "        # print(body)\n",
    "        body_dict = json.loads(body.decode())\n",
    "        # print(body_dict)\n",
    "\n",
    "        mac_address = body_dict.get('mac_address', None)\n",
    "\n",
    "        if mac_address is None:\n",
    "            raise cherrypy.HTTPError(400, 'Missing MAC address in the request body.')\n",
    "\n",
    "        try:\n",
    "            redis_client.ts().create(f'{mac_address}:temperature', retention_msecs=24*60*60*1000)\n",
    "        except redis.ResponseError:\n",
    "            raise cherrypy.HTTPError(409, 'Sensor already exists.')\n",
    "\n",
    "        try:\n",
    "            redis_client.ts().create(f'{mac_address}:humidity', retention_msecs=24*60*60*1000)\n",
    "        except redis.ResponseError:\n",
    "            raise cherrypy.HTTPError(409, 'Sensor already exists.')\n",
    "\n",
    "        return"
   ]
  },
  {
   "cell_type": "markdown",
   "metadata": {
    "cell_id": "81427845e67b47879b75c883e35b7c2a",
    "deepnote_cell_type": "markdown"
   },
   "source": [
    "## Sensor Endpoint Class"
   ]
  },
  {
   "cell_type": "code",
   "execution_count": 5,
   "metadata": {
    "cell_id": "15fe1ba85c2d4afda29c58c312323094",
    "deepnote_cell_type": "code",
    "execution_context_id": "ba5ed696-9b86-479c-8a80-c14bc8ff7827",
    "execution_millis": 1,
    "execution_start": 1738166009166,
    "source_hash": "363a722d"
   },
   "outputs": [],
   "source": [
    "class Sensor(object):\n",
    "    exposed = True\n",
    "\n",
    "    def GET(self, *path, **query):\n",
    "        if len(path) != 1:\n",
    "            raise cherrypy.HTTPError(400, 'Missing MAC address in the request parameters.')\n",
    "\n",
    "        mac_address = path[0]\n",
    "\n",
    "        try:\n",
    "            t_info = redis_client.ts().info(f'{mac_address}:temperature')\n",
    "        except redis.ResponseError:\n",
    "            raise cherrypy.HTTPError(404, 'MAC address not found in the database.')\n",
    "        \n",
    "        h_info = redis_client.ts().info(f'{mac_address}:humidity')\n",
    "\n",
    "        response_dict = {\n",
    "            \"mac_address\": mac_address,\n",
    "            \"t_samples\": t_info.total_samples,\n",
    "            \"t_retention\": t_info.retention_msecs,\n",
    "            \"h_samples\": h_info.total_samples,\n",
    "            \"h_retention\": h_info.retention_msecs,\n",
    "        }\n",
    "\n",
    "        response = json.dumps(response_dict)\n",
    "\n",
    "        return response\n",
    "\n",
    "    def PUT(self, *path, **query):\n",
    "        if len(path) != 1:\n",
    "            raise cherrypy.HTTPError(400, 'Missing MAC address in the request parameters.')\n",
    "\n",
    "        mac_address = path[0]\n",
    "\n",
    "        try:\n",
    "            t_info = redis_client.ts().info(f'{mac_address}:temperature')\n",
    "        except redis.ResponseError:\n",
    "            raise cherrypy.HTTPError(404, 'MAC address not found in the database.')\n",
    "\n",
    "        body = cherrypy.request.body.read()\n",
    "        # print(body)\n",
    "        body_dict = json.loads(body.decode())\n",
    "        # print(body_dict)\n",
    "\n",
    "        t_retention = body_dict.get('t_retention', None)\n",
    "\n",
    "        if t_retention is None:\n",
    "            raise cherrypy.HTTPError(400, 'Missing temperature retention period in the request body.')\n",
    "\n",
    "        h_retention = body_dict.get('h_retention', None)\n",
    "\n",
    "        if h_retention is None:\n",
    "            raise cherrypy.HTTPError(400, 'Missing humidity retention period in the request body.')\n",
    "\n",
    "        redis_client.ts().alter(f'{mac_address}:temperature', retention_msecs=t_retention)\n",
    "        redis_client.ts().alter(f'{mac_address}:humidity', retention_msecs=h_retention)\n",
    "\n",
    "        return\n",
    "    \n",
    "    def DELETE(self, *path, **query):\n",
    "        if len(path) != 1:\n",
    "            raise cherrypy.HTTPError(400, 'Missing MAC address in the request parameters.')\n",
    "        \n",
    "        mac_address = path[0]\n",
    "        found = 0\n",
    "        found += redis_client.delete(f'{mac_address}:temperature')\n",
    "        found += redis_client.delete(f'{mac_address}:humidity')\n",
    "\n",
    "        if found == 0:\n",
    "            raise cherrypy.HTTPError(404, 'MAC address not found in the database.')\n",
    "\n",
    "        return"
   ]
  },
  {
   "cell_type": "markdown",
   "metadata": {
    "cell_id": "692567a2d2684206a4e51155395ec1e7",
    "deepnote_cell_type": "markdown"
   },
   "source": [
    "## HistoricalData Endpoint Class"
   ]
  },
  {
   "cell_type": "code",
   "execution_count": 6,
   "metadata": {
    "cell_id": "322d458d9e1f44f3be2f2d368e9c8047",
    "deepnote_cell_type": "code",
    "execution_context_id": "ba5ed696-9b86-479c-8a80-c14bc8ff7827",
    "execution_millis": 1,
    "execution_start": 1738166009222,
    "source_hash": "89098a6a"
   },
   "outputs": [],
   "source": [
    "class HistoricalData(object):\n",
    "    exposed = True\n",
    "\n",
    "    def GET(self, *path, **query):\n",
    "        if len(path) != 1:\n",
    "            raise cherrypy.HTTPError(400, 'Missing MAC address in the request parameters.')\n",
    "\n",
    "        mac_address = path[0]\n",
    "\n",
    "        # Validate query parameters\n",
    "        start_date = query.get('start_date')\n",
    "        end_date = query.get('end_date')\n",
    "\n",
    "\n",
    "        if not start_date:\n",
    "            raise cherrypy.HTTPError(400, \"Missing start date in the request parameters.\")\n",
    "        if not end_date:\n",
    "            raise cherrypy.HTTPError(400, \"Missing end date in the request parameters.\")\n",
    "\n",
    "        try:\n",
    "            # Convert ISO 8601 string to a datetime object\n",
    "            iso_start_date = datetime.datetime.fromisoformat(start_date)\n",
    "            \n",
    "            # Convert datetime object to a timestamp (in seconds)\n",
    "            timestamp_start_in_seconds = int(iso_start_date.timestamp())\n",
    "            \n",
    "            # Convert the timestamp to milliseconds\n",
    "            timestamp_start_in_milliseconds = timestamp_start_in_seconds * 1000\n",
    "        except ValueError:\n",
    "            raise cherrypy.HTTPError(400, \"Wrong format for start date in the request parameters.\")\n",
    "\n",
    "        try:\n",
    "            # Convert ISO 8601 string to a datetime object\n",
    "            iso_end_date = datetime.datetime.fromisoformat(end_date)\n",
    "\n",
    "            # Convert datetime object to a timestamp (in seconds)\n",
    "            timestamp_end_in_seconds = int(iso_end_date.timestamp())\n",
    "            \n",
    "            # Convert the timestamp to milliseconds\n",
    "            timestamp_end_in_milliseconds = timestamp_end_in_seconds * 1000\n",
    "        except ValueError:\n",
    "            raise cherrypy.HTTPError(400, \"Wrong format for end date in the request parameters.\")\n",
    "        \n",
    "        if timestamp_end_in_milliseconds <= timestamp_start_in_milliseconds:\n",
    "            raise cherrypy.HTTPError(400, \"End date smaller or equal than start date\")\n",
    "            \n",
    "        # Check if the MAC address exists in Redis\n",
    "        temperature_key = f\"{mac_address}:temperature\"\n",
    "        humidity_key = f\"{mac_address}:humidity\"\n",
    "\n",
    "        if not redis_client.exists(temperature_key) or not redis_client.exists(humidity_key):\n",
    "            raise cherrypy.HTTPError(404, \"MAC address not found in the database.\")\n",
    "\n",
    "        # Fetch temperature and humidity data within the specified range\n",
    "        temperature_data = redis_client.ts().range(\n",
    "            temperature_key, timestamp_start_in_milliseconds, timestamp_end_in_milliseconds\n",
    "        )\n",
    "        humidity_data = redis_client.ts().range(\n",
    "            humidity_key, timestamp_start_in_milliseconds, timestamp_end_in_milliseconds\n",
    "        )\n",
    "\n",
    "        # Extract timestamps, temperatures, and humidity values\n",
    "        timestamps = [item[0] for item in temperature_data]\n",
    "        temperatures = [item[1] for item in temperature_data]\n",
    "        humidities = [item[1] for item in humidity_data]\n",
    "\n",
    "        # Prepare the response\n",
    "        response_dict = {\n",
    "            \"mac_address\": mac_address,\n",
    "            \"timestamp\": timestamps,\n",
    "            \"temperature\": temperatures,\n",
    "            \"humidity\": humidities,\n",
    "        }\n",
    "\n",
    "        # Return the JSON response\n",
    "        return json.dumps(response_dict)\n",
    "        \n",
    "        response = json.dumps(response_dict)\n",
    "\n",
    "        return response\n"
   ]
  },
  {
   "cell_type": "markdown",
   "metadata": {
    "cell_id": "28d09abf27e34177ade0fffb3c69792e",
    "deepnote_cell_type": "markdown"
   },
   "source": [
    "## Setup cherrypy and Map objects to their target endpoints"
   ]
  },
  {
   "cell_type": "code",
   "execution_count": null,
   "metadata": {
    "cell_id": "7f74295bc9b24ffcb67caa506aa40591",
    "deepnote_cell_type": "code",
    "execution_context_id": "ba5ed696-9b86-479c-8a80-c14bc8ff7827",
    "execution_millis": 51261,
    "execution_start": 1738166009275,
    "source_hash": "135e4563"
   },
   "outputs": [],
   "source": [
    "if __name__ == '__main__':\n",
    "    conf = {'/': {'request.dispatch': cherrypy.dispatch.MethodDispatcher()}}\n",
    "    cherrypy.tree.mount(Status(), '/status', conf)\n",
    "    cherrypy.tree.mount(Sensors(), '/sensors', conf)\n",
    "    cherrypy.tree.mount(Sensor(), '/sensor', conf)\n",
    "    cherrypy.tree.mount(HistoricalData(), '/data', conf)  # New endpoint\n",
    "    cherrypy.config.update({'server.socket_host': '0.0.0.0'})\n",
    "    cherrypy.config.update({'server.socket_port': 8080})\n",
    "    cherrypy.engine.start()\n",
    "    cherrypy.engine.block()"
   ]
  },
  {
   "cell_type": "markdown",
   "metadata": {
    "created_in_deepnote_cell": true,
    "deepnote_cell_type": "markdown"
   },
   "source": [
    "<a style='text-decoration:none;line-height:16px;display:flex;color:#5B5B62;padding:10px;justify-content:end;' href='https://deepnote.com?utm_source=created-in-deepnote-cell&projectId=5f0c18e4-6e8e-4b7e-be1d-d8fab55c80d7' target=\"_blank\">\n",
    "<img alt='Created in deepnote.com' style='display:inline;max-height:16px;margin:0px;margin-right:7.5px;' src='data:image/svg+xml;base64,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' > </img>\n",
    "Created in <span style='font-weight:600;margin-left:4px;'>Deepnote</span></a>"
   ]
  }
 ],
 "metadata": {
  "deepnote_app_layout": "article",
  "deepnote_notebook_id": "3771056c8dfc48538541c69574bd66c4",
  "language_info": {
   "name": "python"
  }
 },
 "nbformat": 4,
 "nbformat_minor": 0
}
