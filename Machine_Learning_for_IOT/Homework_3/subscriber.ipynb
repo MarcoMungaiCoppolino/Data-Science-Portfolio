{
 "cells": [
  {
   "cell_type": "markdown",
   "metadata": {},
   "source": [
    "# Subscriber"
   ]
  },
  {
   "cell_type": "code",
   "execution_count": null,
   "metadata": {
    "cell_id": "89d970724b9444dbacf135ebd381eb9e",
    "deepnote_cell_type": "code"
   },
   "outputs": [],
   "source": [
    "import redis\n",
    "from redis.commands.timeseries import TimeSeries\n",
    "import paho.mqtt.client as mqtt\n",
    "import json\n",
    "\n",
    "# Redis connection setup\n",
    "REDIS_HOST = 'redis-15780.c250.eu-central-1-1.ec2.redns.redis-cloud.com'\n",
    "REDIS_PORT = 15780\n",
    "REDIS_USERNAME = 'default'\n",
    "REDIS_PASSWORD = 'DIZGajssLlzVl2kN1btFK0LKgBg36OLS'\n",
    "\n",
    "redis_client = redis.Redis(host=REDIS_HOST, port=REDIS_PORT, username=REDIS_USERNAME, password=REDIS_PASSWORD)\n",
    "\n",
    "# Verify that Redis TimeSeries is enabled\n",
    "try:\n",
    "    ts = redis_client.ts()\n",
    "except AttributeError:\n",
    "    raise RuntimeError(\"Redis TimeSeries module is not enabled. Please enable it in Redis.\")\n",
    "\n",
    "# Define the expected MAC address\n",
    "expected_mac_address = \"0xe45f01d8f49f\"\n",
    "\n",
    "mqtt_client = mqtt.Client()\n",
    "\n",
    "def on_connect(mqtt_client, userdata, flags, rc):\n",
    "    print(f'Connected with result code {str(rc)}')\n",
    "    # Subscribe to all relevant topics\n",
    "    mqtt_client.subscribe('s332203/#')\n",
    "\n",
    "# Callback for receiving MQTT messages\n",
    "def on_message(client, userdata, msg):\n",
    "    try:\n",
    "        # Decode the payload as JSON\n",
    "        payload = json.loads(msg.payload.decode('utf-8'))\n",
    "        print(f\"Received message: {payload} on topic: {msg.topic}\")\n",
    "\n",
    "        # Check if the MAC address in the payload matches the expected one\n",
    "        mac_address = payload.get(\"mac_address\")\n",
    "        if mac_address != expected_mac_address:\n",
    "            print(f\"Unknown MAC address: {mac_address}. Skipping storage.\")\n",
    "            return\n",
    "\n",
    "        # Extract data from the payload\n",
    "        timestamp = payload.get(\"timestamp\", None)\n",
    "        if timestamp is not None:\n",
    "            # Convert the timestamp to milliseconds\n",
    "            timestamp = int(float(timestamp) * 1000)\n",
    "        else:\n",
    "            timestamp = \"*\"  # Use \"*\" to indicate the current timestamp\n",
    "        temperature = payload.get(\"temperature\")\n",
    "        humidity = payload.get(\"humidity\")\n",
    "\n",
    "        # Store data in Redis TimeSeries\n",
    "        if temperature is not None:\n",
    "            ts.add(f\"{mac_address}:temperature\", timestamp, temperature)\n",
    "            print(f\"Stored temperature {temperature} in Redis under {mac_address}:temperature.\")\n",
    "\n",
    "        if humidity is not None:\n",
    "            ts.add(f\"{mac_address}:humidity\", timestamp, humidity)\n",
    "            print(f\"Stored humidity {humidity} in Redis under {mac_address}:humidity.\")\n",
    "    except json.JSONDecodeError:\n",
    "        print(f\"Error decoding JSON payload: {msg.payload}\")\n",
    "    except Exception as e:\n",
    "        print(f\"Error processing message: {e}\")\n",
    "\n",
    "# Configure the MQTT client\n",
    "mqtt_client.on_connect = on_connect\n",
    "mqtt_client.on_message = on_message\n",
    "\n",
    "# MQTT broker parameters\n",
    "mqtt_broker = \"mqtt.eclipseprojects.io\"\n",
    "mqtt_port = 1883\n",
    "\n",
    "# Connect to the broker\n",
    "mqtt_client.connect(mqtt_broker, mqtt_port, 60)\n",
    "\n",
    "# Start the MQTT loop to receive messages\n",
    "print(\"MQTT subscriber is running and waiting for messages...\")\n",
    "mqtt_client.loop_forever()"
   ]
  },
  {
   "cell_type": "markdown",
   "metadata": {
    "created_in_deepnote_cell": true,
    "deepnote_cell_type": "markdown"
   },
   "source": [
    "<a style='text-decoration:none;line-height:16px;display:flex;color:#5B5B62;padding:10px;justify-content:end;' href='https://deepnote.com?utm_source=created-in-deepnote-cell&projectId=5f0c18e4-6e8e-4b7e-be1d-d8fab55c80d7' target=\"_blank\">\n",
    "<img alt='Created in deepnote.com' style='display:inline;max-height:16px;margin:0px;margin-right:7.5px;' src='data:image/svg+xml;base64,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' > </img>\n",
    "Created in <span style='font-weight:600;margin-left:4px;'>Deepnote</span></a>"
   ]
  }
 ],
 "metadata": {
  "deepnote_notebook_id": "79b93f9c75414779aa7fe51d42018b81",
  "language_info": {
   "name": "python"
  }
 },
 "nbformat": 4,
 "nbformat_minor": 0
}
