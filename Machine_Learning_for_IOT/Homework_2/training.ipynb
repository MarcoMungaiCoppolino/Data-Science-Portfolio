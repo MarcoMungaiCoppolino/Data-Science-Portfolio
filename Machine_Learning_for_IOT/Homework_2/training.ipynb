{
 "cells": [
  {
   "cell_type": "markdown",
   "metadata": {
    "cell_id": "d1081708d9514091804412f1580b8325",
    "deepnote_app_block_visible": true,
    "deepnote_cell_type": "markdown"
   },
   "source": [
    "# Training of Group 2 Model"
   ]
  },
  {
   "cell_type": "markdown",
   "metadata": {
    "cell_id": "5bb8403491a244b9aa16f2773d6d85f8",
    "deepnote_app_block_visible": true,
    "deepnote_cell_type": "markdown"
   },
   "source": [
    "### Import the required modules"
   ]
  },
  {
   "cell_type": "code",
   "execution_count": null,
   "metadata": {
    "cell_id": "5d5ff52a31ba4b3f8a53355cc3d62ea5",
    "deepnote_app_block_visible": true,
    "deepnote_cell_type": "code",
    "deepnote_to_be_reexecuted": false,
    "execution_context_id": "59dde062-8971-49c0-a7d2-18d53ac1f73a",
    "execution_millis": 2074,
    "execution_start": 1736262677512,
    "source_hash": "924eb9cf"
   },
   "outputs": [],
   "source": [
    "import tensorflow as tf\n",
    "from reader import AudioReader\n",
    "from preprocessing import Padding, Normalization\n",
    "from preprocessing import MFCC"
   ]
  },
  {
   "cell_type": "markdown",
   "metadata": {
    "cell_id": "24e1a0985450404c8034cb807b359737",
    "deepnote_app_block_visible": true,
    "deepnote_cell_type": "markdown"
   },
   "source": [
    "### Define the Hyperparameters"
   ]
  },
  {
   "cell_type": "code",
   "execution_count": 2,
   "metadata": {
    "cell_id": "41a4cf2ee7ff4f1eb25ca21c8c4782bb",
    "deepnote_app_block_visible": true,
    "deepnote_cell_type": "code",
    "deepnote_to_be_reexecuted": false,
    "execution_context_id": "59dde062-8971-49c0-a7d2-18d53ac1f73a",
    "execution_millis": 0,
    "execution_start": 1736262679632,
    "source_hash": "ce902512"
   },
   "outputs": [],
   "source": [
    "PREPROCESSING_ARGS = {\n",
    "    'sampling_rate': 16000,\n",
    "    'frame_length_in_s': 0.016,\n",
    "    'frame_step_in_s': 0.008,\n",
    "    'num_mel_bins': 10,\n",
    "    'lower_frequency': 40,\n",
    "    'upper_frequency': 4000,\n",
    "    'num_coefficients': 10\n",
    "}\n",
    "\n",
    "TRAINING_ARGS = {\n",
    "    'batch_size': 20,\n",
    "    'learning_rate': 0.01,\n",
    "    'end_learning_rate': 1.e-6,\n",
    "    'epochs': 22,\n",
    "    'width_multiplier': 0.25\n",
    "}"
   ]
  },
  {
   "cell_type": "markdown",
   "metadata": {
    "cell_id": "aff458a0514445e4b1a9def26e52a48e",
    "deepnote_app_block_visible": true,
    "deepnote_cell_type": "markdown"
   },
   "source": [
    "### Create train/val/test Datasets"
   ]
  },
  {
   "cell_type": "code",
   "execution_count": 3,
   "metadata": {
    "cell_id": "cd80cb6d686649bd9ab6367f70e20c2b",
    "deepnote_app_block_visible": true,
    "deepnote_cell_type": "code",
    "deepnote_to_be_reexecuted": false,
    "execution_context_id": "59dde062-8971-49c0-a7d2-18d53ac1f73a",
    "execution_millis": 105,
    "execution_start": 1736262679697,
    "source_hash": "6985d577"
   },
   "outputs": [],
   "source": [
    "train_ds = tf.data.Dataset.list_files(['/tmp/msc-train/up*', '/tmp/msc-train/down*'])\n",
    "val_ds = tf.data.Dataset.list_files(['/tmp/msc-val/up*', '/tmp/msc-val/down*'])\n",
    "test_ds = tf.data.Dataset.list_files(['/tmp/msc-test/up*', '/tmp/msc-test/down*'])"
   ]
  },
  {
   "cell_type": "markdown",
   "metadata": {
    "cell_id": "102f02f7f24745548740a1f11de47087",
    "deepnote_app_block_visible": true,
    "deepnote_cell_type": "markdown"
   },
   "source": [
    "### Define the Data Pipeline"
   ]
  },
  {
   "cell_type": "code",
   "execution_count": null,
   "metadata": {
    "cell_id": "757ab689585646ffb772c04d602f686c",
    "deepnote_app_block_visible": true,
    "deepnote_cell_type": "code",
    "deepnote_to_be_reexecuted": false,
    "execution_context_id": "59dde062-8971-49c0-a7d2-18d53ac1f73a",
    "execution_millis": 2696,
    "execution_start": 1736262679852,
    "source_hash": "f27bf7ae"
   },
   "outputs": [],
   "source": [
    "audio_reader = AudioReader(tf.int16)\n",
    "padding = Padding(PREPROCESSING_ARGS['sampling_rate'])\n",
    "normalization = Normalization(tf.int16)\n",
    "feature_processor = MFCC(**PREPROCESSING_ARGS)\n",
    "feature_processor_fn = feature_processor.get_mfccs_and_label\n",
    "\n",
    "LABELS = ['down', 'up']\n",
    "\n",
    "def prepare_for_training(feature, label):\n",
    "    feature = tf.expand_dims(feature, -1)\n",
    "    label_id = tf.argmax(label == LABELS)\n",
    "\n",
    "    return feature, label_id\n",
    "\n",
    "train_ds = (train_ds\n",
    "            .map(audio_reader.get_audio_and_label)\n",
    "            .map(padding.pad)\n",
    "            .map(normalization.normalize)\n",
    "            .map(feature_processor_fn)\n",
    "            .map(prepare_for_training)\n",
    "            .batch(TRAINING_ARGS['batch_size'])\n",
    "            .cache())\n",
    "val_ds = (val_ds\n",
    "            .map(audio_reader.get_audio_and_label)\n",
    "            .map(padding.pad)\n",
    "            .map(normalization.normalize)\n",
    "            .map(feature_processor_fn)\n",
    "            .map(prepare_for_training)\n",
    "            .batch(TRAINING_ARGS['batch_size']))\n",
    "test_ds = (test_ds\n",
    "            .map(audio_reader.get_audio_and_label)\n",
    "            .map(padding.pad)\n",
    "            .map(normalization.normalize)\n",
    "            .map(feature_processor_fn)\n",
    "            .map(prepare_for_training)\n",
    "            .batch(TRAINING_ARGS['batch_size']))"
   ]
  },
  {
   "cell_type": "markdown",
   "metadata": {
    "cell_id": "0399cc33b64b423ab7345deae3a6884a",
    "deepnote_app_block_visible": true,
    "deepnote_cell_type": "markdown"
   },
   "source": [
    "### Read a batch of data"
   ]
  },
  {
   "cell_type": "code",
   "execution_count": null,
   "metadata": {
    "cell_id": "0ced3f27fd904c4a93f93080c70fe9e0",
    "deepnote_app_block_visible": true,
    "deepnote_cell_type": "code",
    "execution_context_id": "59dde062-8971-49c0-a7d2-18d53ac1f73a",
    "execution_millis": 201,
    "execution_start": 1736262682596,
    "source_hash": "9dead3aa"
   },
   "outputs": [],
   "source": [
    "for example_batch, example_labels in train_ds.take(1):\n",
    "  print('Batch Shape:', example_batch.shape)\n",
    "  print('Data Shape:', example_batch.shape[1:])\n",
    "  print('Labels:', example_labels)"
   ]
  },
  {
   "cell_type": "markdown",
   "metadata": {
    "cell_id": "5731e4962b124f4aaa45345f5bc5def2",
    "deepnote_app_block_visible": true,
    "deepnote_cell_type": "markdown"
   },
   "source": [
    "### Create the Model and Apply Structured Pruning via Width Multiplier"
   ]
  },
  {
   "cell_type": "code",
   "execution_count": 6,
   "metadata": {
    "cell_id": "f26034f094ce4b8aa47dd0219c4afce2",
    "deepnote_app_block_visible": true,
    "deepnote_cell_type": "code",
    "execution_context_id": "59dde062-8971-49c0-a7d2-18d53ac1f73a",
    "execution_millis": 113,
    "execution_start": 1736262682848,
    "source_hash": "1712bf0d"
   },
   "outputs": [],
   "source": [
    "wm = TRAINING_ARGS['width_multiplier']\n",
    "\n",
    "model = tf.keras.Sequential([\n",
    "    tf.keras.layers.Input(shape=example_batch.shape[1:]),\n",
    "    tf.keras.layers.Conv2D(filters=int(256 * wm), kernel_size=[3, 3], strides=[2, 2],\n",
    "        use_bias=False, padding='valid'),\n",
    "    tf.keras.layers.BatchNormalization(),\n",
    "    tf.keras.layers.ReLU(),\n",
    "    tf.keras.layers.DepthwiseConv2D(kernel_size=[3, 3], strides=[1, 1],\n",
    "        use_bias=False, padding='same'),\n",
    "    tf.keras.layers.Conv2D(filters=int(256 * wm), kernel_size=[1, 1], strides=[1, 1],\n",
    "        use_bias=False),\n",
    "    tf.keras.layers.BatchNormalization(),\n",
    "    tf.keras.layers.ReLU(),\n",
    "    tf.keras.layers.DepthwiseConv2D(kernel_size=[3, 3], strides=[1, 1],\n",
    "        use_bias=False, padding='same'),\n",
    "    tf.keras.layers.Conv2D(filters=int(256 * wm), kernel_size=[1, 1], strides=[1, 1],\n",
    "        use_bias=False),\n",
    "    tf.keras.layers.BatchNormalization(),\n",
    "    tf.keras.layers.ReLU(),\n",
    "    tf.keras.layers.GlobalAveragePooling2D(),\n",
    "    tf.keras.layers.Dense(units=len(LABELS)),\n",
    "    tf.keras.layers.Softmax()\n",
    "])"
   ]
  },
  {
   "cell_type": "code",
   "execution_count": null,
   "metadata": {
    "cell_id": "d97209de4a454eaf892cdefab0bd0208",
    "deepnote_app_block_visible": true,
    "deepnote_cell_type": "code",
    "execution_context_id": "59dde062-8971-49c0-a7d2-18d53ac1f73a",
    "execution_millis": 1,
    "execution_start": 1736262683012,
    "source_hash": "4e6a3b95"
   },
   "outputs": [],
   "source": [
    "model.summary()"
   ]
  },
  {
   "cell_type": "markdown",
   "metadata": {
    "cell_id": "be9279f6c832498a9f99d390388cb6e7",
    "deepnote_app_block_visible": true,
    "deepnote_cell_type": "markdown"
   },
   "source": [
    "### Create callbacks"
   ]
  },
  {
   "cell_type": "code",
   "execution_count": 8,
   "metadata": {
    "cell_id": "3475e897215140b99a0a98f832c75ae1",
    "deepnote_app_block_visible": true,
    "deepnote_cell_type": "code",
    "execution_context_id": "59dde062-8971-49c0-a7d2-18d53ac1f73a",
    "execution_millis": 0,
    "execution_start": 1736262683060,
    "source_hash": "fa79d21c"
   },
   "outputs": [],
   "source": [
    "# Learning Rate scheduler\n",
    "linear_decay = tf.keras.optimizers.schedules.PolynomialDecay(\n",
    "    initial_learning_rate=TRAINING_ARGS['learning_rate'],\n",
    "    end_learning_rate=TRAINING_ARGS['end_learning_rate'],\n",
    "    decay_steps=len(train_ds) * TRAINING_ARGS['epochs'],\n",
    ")\n",
    "lr_scheduler = tf.keras.callbacks.LearningRateScheduler(linear_decay)\n",
    "\n",
    "# Early Stopping\n",
    "early_stopping = tf.keras.callbacks.EarlyStopping(\n",
    "    monitor='val_loss',\n",
    "    patience=5,\n",
    "    verbose=1,\n",
    "    mode='auto'\n",
    ")"
   ]
  },
  {
   "cell_type": "markdown",
   "metadata": {
    "cell_id": "2630e616c9164f36a143bd400b6e6146",
    "deepnote_app_block_visible": true,
    "deepnote_cell_type": "markdown"
   },
   "source": [
    "### Train the Model (with Callbacks)\n",
    "\n",
    "- Modify the `learning_rate` argument of the `Adam` optimizer.\n",
    "- Modify the `fit` method, specifying the `callbacks` argument."
   ]
  },
  {
   "cell_type": "code",
   "execution_count": null,
   "metadata": {
    "cell_id": "4382afe06a6247c3815fd2c43623003f",
    "deepnote_app_block_visible": true,
    "deepnote_cell_type": "code",
    "execution_context_id": "59dde062-8971-49c0-a7d2-18d53ac1f73a",
    "execution_millis": 54126,
    "execution_start": 1736262713298,
    "source_hash": "5d53b664"
   },
   "outputs": [],
   "source": [
    "loss = tf.losses.SparseCategoricalCrossentropy(from_logits=False)\n",
    "optimizer = tf.optimizers.Adam(learning_rate=linear_decay)\n",
    "metrics = [tf.metrics.SparseCategoricalAccuracy()]\n",
    "model.compile(loss=loss, optimizer=optimizer, metrics=metrics)\n",
    "\n",
    "history = model.fit(\n",
    "    train_ds, \n",
    "    epochs=TRAINING_ARGS['epochs'], \n",
    "    validation_data=val_ds, \n",
    "    callbacks=[lr_scheduler, early_stopping]\n",
    ")"
   ]
  },
  {
   "cell_type": "markdown",
   "metadata": {
    "cell_id": "83823345b3a94180aabb3c6b6858bd1f",
    "deepnote_app_block_visible": true,
    "deepnote_cell_type": "markdown"
   },
   "source": [
    "### Show the History"
   ]
  },
  {
   "cell_type": "code",
   "execution_count": null,
   "metadata": {
    "cell_id": "6c8b1477f44047098e1d853ee8c86cee",
    "deepnote_app_block_visible": true,
    "deepnote_cell_type": "code",
    "execution_context_id": "59dde062-8971-49c0-a7d2-18d53ac1f73a",
    "execution_millis": 0,
    "execution_start": 1736262704440,
    "source_hash": "af97ebf4"
   },
   "outputs": [],
   "source": [
    "history.history"
   ]
  },
  {
   "cell_type": "markdown",
   "metadata": {
    "cell_id": "761ae8140d86471f9164772e1a649314",
    "deepnote_app_block_visible": true,
    "deepnote_cell_type": "markdown"
   },
   "source": [
    "### Evaluate the Model"
   ]
  },
  {
   "cell_type": "code",
   "execution_count": null,
   "metadata": {
    "cell_id": "92748e24f25945cd9126ef5cbde76761",
    "deepnote_app_block_visible": true,
    "deepnote_cell_type": "code",
    "execution_context_id": "59dde062-8971-49c0-a7d2-18d53ac1f73a",
    "execution_millis": 699,
    "execution_start": 1736262776898,
    "source_hash": "d2946d35"
   },
   "outputs": [],
   "source": [
    "training_loss = history.history['loss'][-1]\n",
    "training_accuracy = history.history['sparse_categorical_accuracy'][-1]\n",
    "val_loss = history.history['val_loss'][-1]\n",
    "val_accuracy = history.history['val_sparse_categorical_accuracy'][-1]\n",
    "\n",
    "test_loss, test_accuracy = model.evaluate(test_ds)\n",
    "\n",
    "print(f'Training Loss: {training_loss:.4f}')\n",
    "print(f'Training Accuracy: {training_accuracy*100.:.2f}%')\n",
    "print()\n",
    "print(f'Validation Loss: {val_loss:.4f}')\n",
    "print(f'Validation Accuracy: {val_accuracy*100.:.2f}%')\n",
    "print()\n",
    "print(f'Test Loss: {test_loss:.4f}')\n",
    "print(f'Test Accuracy: {test_accuracy*100.:.2f}%')"
   ]
  },
  {
   "cell_type": "markdown",
   "metadata": {
    "cell_id": "f31d969e13794bc49a11c5c481f1eae7",
    "deepnote_app_block_visible": true,
    "deepnote_cell_type": "markdown"
   },
   "source": [
    "### Save the Model"
   ]
  },
  {
   "cell_type": "code",
   "execution_count": null,
   "metadata": {
    "cell_id": "e1aae21b91064057ba1d72d7a5315640",
    "deepnote_app_block_visible": true,
    "deepnote_cell_type": "code",
    "execution_context_id": "59dde062-8971-49c0-a7d2-18d53ac1f73a",
    "execution_millis": 2264,
    "execution_start": 1736262782547,
    "source_hash": "466dafd6"
   },
   "outputs": [],
   "source": [
    "import os\n",
    "import zipfile\n",
    "from time import time\n",
    "import tensorflow as tf\n",
    "\n",
    "# Convert the model to TFLite format\n",
    "converter = tf.lite.TFLiteConverter.from_keras_model(model)  # Assuming 'model' is a Keras model\n",
    "tflite_model = converter.convert()\n",
    "\n",
    "# Create a directory for the TFLite model zip file\n",
    "tflite_model_dir = './tflite_models'\n",
    "if not os.path.exists(tflite_model_dir):\n",
    "    os.makedirs(tflite_model_dir)\n",
    "\n",
    "# Define the path for the zip file and TFLite file inside it\n",
    "tflite_zip_name = os.path.join(tflite_model_dir, 'model2.tflite.zip')\n",
    "\n",
    "# Create a zip file and save the TFLite model in it with the name 'model2.tflite'\n",
    "with zipfile.ZipFile(tflite_zip_name, 'w', zipfile.ZIP_DEFLATED) as zipf:\n",
    "    zipf.writestr('model2.tflite', tflite_model)\n",
    "\n",
    "# Output the path of the saved zip file\n",
    "tflite_zip_name\n"
   ]
  },
  {
   "cell_type": "markdown",
   "metadata": {
    "created_in_deepnote_cell": true,
    "deepnote_cell_type": "markdown"
   },
   "source": [
    "<a style='text-decoration:none;line-height:16px;display:flex;color:#5B5B62;padding:10px;justify-content:end;' href='https://deepnote.com?utm_source=created-in-deepnote-cell&projectId=5f0c18e4-6e8e-4b7e-be1d-d8fab55c80d7' target=\"_blank\">\n",
    "<img alt='Created in deepnote.com' style='display:inline;max-height:16px;margin:0px;margin-right:7.5px;' src='data:image/svg+xml;base64,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' > </img>\n",
    "Created in <span style='font-weight:600;margin-left:4px;'>Deepnote</span></a>"
   ]
  }
 ],
 "metadata": {
  "deepnote_app_clear_outputs": false,
  "deepnote_app_layout": "powerful-article",
  "deepnote_app_reactivity_enabled": true,
  "deepnote_app_run_on_load_enabled": false,
  "deepnote_app_width": "full-width",
  "deepnote_notebook_id": "90e072236ce34cb4986b57ab8890874f",
  "language_info": {
   "name": "python"
  }
 },
 "nbformat": 4,
 "nbformat_minor": 0
}
