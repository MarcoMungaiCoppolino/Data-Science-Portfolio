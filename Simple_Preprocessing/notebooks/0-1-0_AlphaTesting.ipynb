{
 "cells": [
  {
   "cell_type": "code",
   "execution_count": 1,
   "id": "7bb6f3b5-1e73-4218-b239-caf3a46fb0d3",
   "metadata": {},
   "outputs": [],
   "source": [
    "import numpy as np\n",
    "import pandas as pd\n",
    "from sklearn.preprocessing import OrdinalEncoder\n",
    "from sklearn.preprocessing import OneHotEncoder\n",
    "from sklearn.base import BaseEstimator, TransformerMixin\n",
    "from operator import itemgetter\n"
   ]
  },
  {
   "cell_type": "code",
   "execution_count": 2,
   "id": "4c31349f-8f75-4c09-bd77-87855c08bc9e",
   "metadata": {},
   "outputs": [],
   "source": [
    "import pandas as pd\n",
    "from sklearn.model_selection import train_test_split"
   ]
  },
  {
   "cell_type": "code",
   "execution_count": 3,
   "id": "0ead28f0-1aeb-4920-beab-eac26b2c2e90",
   "metadata": {},
   "outputs": [],
   "source": [
    "# Read the data\n",
    "X = pd.read_csv('Data_Sets/train.csv', index_col='Id') \n",
    "X_test = pd.read_csv('Data_Sets/test.csv', index_col='Id')\n",
    "\n",
    "# Remove rows with missing target, separate target from predictors\n",
    "X.dropna(axis=0, subset=['SalePrice'], inplace=True)\n",
    "y = X.SalePrice\n",
    "X.drop(['SalePrice'], axis=1, inplace=True)\n",
    "\n",
    "# To keep things simple, we'll drop columns with missing values\n",
    "cols_with_missing = [col for col in X.columns if X[col].isnull().any()] \n",
    "X.drop(cols_with_missing, axis=1, inplace=True)\n",
    "X_test.drop(cols_with_missing, axis=1, inplace=True)\n",
    "\n",
    "# Break off validation set from training data\n",
    "X_train, X_valid, y_train, y_valid = train_test_split(X, y,\n",
    "                                                      train_size=0.8, test_size=0.2,\n",
    "                                                      random_state=0)"
   ]
  },
  {
   "cell_type": "code",
   "execution_count": 4,
   "id": "8dcc614c-6c14-41ff-b0b2-4edb1b960166",
   "metadata": {},
   "outputs": [
    {
     "data": {
      "text/html": [
       "<div>\n",
       "<style scoped>\n",
       "    .dataframe tbody tr th:only-of-type {\n",
       "        vertical-align: middle;\n",
       "    }\n",
       "\n",
       "    .dataframe tbody tr th {\n",
       "        vertical-align: top;\n",
       "    }\n",
       "\n",
       "    .dataframe thead th {\n",
       "        text-align: right;\n",
       "    }\n",
       "</style>\n",
       "<table border=\"1\" class=\"dataframe\">\n",
       "  <thead>\n",
       "    <tr style=\"text-align: right;\">\n",
       "      <th></th>\n",
       "      <th>MSSubClass</th>\n",
       "      <th>MSZoning</th>\n",
       "      <th>LotArea</th>\n",
       "      <th>Street</th>\n",
       "      <th>LotShape</th>\n",
       "      <th>LandContour</th>\n",
       "      <th>Utilities</th>\n",
       "      <th>LotConfig</th>\n",
       "      <th>LandSlope</th>\n",
       "      <th>Neighborhood</th>\n",
       "      <th>...</th>\n",
       "      <th>OpenPorchSF</th>\n",
       "      <th>EnclosedPorch</th>\n",
       "      <th>3SsnPorch</th>\n",
       "      <th>ScreenPorch</th>\n",
       "      <th>PoolArea</th>\n",
       "      <th>MiscVal</th>\n",
       "      <th>MoSold</th>\n",
       "      <th>YrSold</th>\n",
       "      <th>SaleType</th>\n",
       "      <th>SaleCondition</th>\n",
       "    </tr>\n",
       "    <tr>\n",
       "      <th>Id</th>\n",
       "      <th></th>\n",
       "      <th></th>\n",
       "      <th></th>\n",
       "      <th></th>\n",
       "      <th></th>\n",
       "      <th></th>\n",
       "      <th></th>\n",
       "      <th></th>\n",
       "      <th></th>\n",
       "      <th></th>\n",
       "      <th></th>\n",
       "      <th></th>\n",
       "      <th></th>\n",
       "      <th></th>\n",
       "      <th></th>\n",
       "      <th></th>\n",
       "      <th></th>\n",
       "      <th></th>\n",
       "      <th></th>\n",
       "      <th></th>\n",
       "      <th></th>\n",
       "    </tr>\n",
       "  </thead>\n",
       "  <tbody>\n",
       "    <tr>\n",
       "      <th>619</th>\n",
       "      <td>20</td>\n",
       "      <td>RL</td>\n",
       "      <td>11694</td>\n",
       "      <td>Pave</td>\n",
       "      <td>Reg</td>\n",
       "      <td>Lvl</td>\n",
       "      <td>AllPub</td>\n",
       "      <td>Inside</td>\n",
       "      <td>Gtl</td>\n",
       "      <td>NridgHt</td>\n",
       "      <td>...</td>\n",
       "      <td>108</td>\n",
       "      <td>0</td>\n",
       "      <td>0</td>\n",
       "      <td>260</td>\n",
       "      <td>0</td>\n",
       "      <td>0</td>\n",
       "      <td>7</td>\n",
       "      <td>2007</td>\n",
       "      <td>New</td>\n",
       "      <td>Partial</td>\n",
       "    </tr>\n",
       "    <tr>\n",
       "      <th>871</th>\n",
       "      <td>20</td>\n",
       "      <td>RL</td>\n",
       "      <td>6600</td>\n",
       "      <td>Pave</td>\n",
       "      <td>Reg</td>\n",
       "      <td>Lvl</td>\n",
       "      <td>AllPub</td>\n",
       "      <td>Inside</td>\n",
       "      <td>Gtl</td>\n",
       "      <td>NAmes</td>\n",
       "      <td>...</td>\n",
       "      <td>0</td>\n",
       "      <td>0</td>\n",
       "      <td>0</td>\n",
       "      <td>0</td>\n",
       "      <td>0</td>\n",
       "      <td>0</td>\n",
       "      <td>8</td>\n",
       "      <td>2009</td>\n",
       "      <td>WD</td>\n",
       "      <td>Normal</td>\n",
       "    </tr>\n",
       "    <tr>\n",
       "      <th>93</th>\n",
       "      <td>30</td>\n",
       "      <td>RL</td>\n",
       "      <td>13360</td>\n",
       "      <td>Pave</td>\n",
       "      <td>IR1</td>\n",
       "      <td>HLS</td>\n",
       "      <td>AllPub</td>\n",
       "      <td>Inside</td>\n",
       "      <td>Gtl</td>\n",
       "      <td>Crawfor</td>\n",
       "      <td>...</td>\n",
       "      <td>0</td>\n",
       "      <td>44</td>\n",
       "      <td>0</td>\n",
       "      <td>0</td>\n",
       "      <td>0</td>\n",
       "      <td>0</td>\n",
       "      <td>8</td>\n",
       "      <td>2009</td>\n",
       "      <td>WD</td>\n",
       "      <td>Normal</td>\n",
       "    </tr>\n",
       "    <tr>\n",
       "      <th>818</th>\n",
       "      <td>20</td>\n",
       "      <td>RL</td>\n",
       "      <td>13265</td>\n",
       "      <td>Pave</td>\n",
       "      <td>IR1</td>\n",
       "      <td>Lvl</td>\n",
       "      <td>AllPub</td>\n",
       "      <td>CulDSac</td>\n",
       "      <td>Gtl</td>\n",
       "      <td>Mitchel</td>\n",
       "      <td>...</td>\n",
       "      <td>59</td>\n",
       "      <td>0</td>\n",
       "      <td>0</td>\n",
       "      <td>0</td>\n",
       "      <td>0</td>\n",
       "      <td>0</td>\n",
       "      <td>7</td>\n",
       "      <td>2008</td>\n",
       "      <td>WD</td>\n",
       "      <td>Normal</td>\n",
       "    </tr>\n",
       "    <tr>\n",
       "      <th>303</th>\n",
       "      <td>20</td>\n",
       "      <td>RL</td>\n",
       "      <td>13704</td>\n",
       "      <td>Pave</td>\n",
       "      <td>IR1</td>\n",
       "      <td>Lvl</td>\n",
       "      <td>AllPub</td>\n",
       "      <td>Corner</td>\n",
       "      <td>Gtl</td>\n",
       "      <td>CollgCr</td>\n",
       "      <td>...</td>\n",
       "      <td>81</td>\n",
       "      <td>0</td>\n",
       "      <td>0</td>\n",
       "      <td>0</td>\n",
       "      <td>0</td>\n",
       "      <td>0</td>\n",
       "      <td>1</td>\n",
       "      <td>2006</td>\n",
       "      <td>WD</td>\n",
       "      <td>Normal</td>\n",
       "    </tr>\n",
       "  </tbody>\n",
       "</table>\n",
       "<p>5 rows × 60 columns</p>\n",
       "</div>"
      ],
      "text/plain": [
       "     MSSubClass MSZoning  LotArea Street LotShape LandContour Utilities  \\\n",
       "Id                                                                        \n",
       "619          20       RL    11694   Pave      Reg         Lvl    AllPub   \n",
       "871          20       RL     6600   Pave      Reg         Lvl    AllPub   \n",
       "93           30       RL    13360   Pave      IR1         HLS    AllPub   \n",
       "818          20       RL    13265   Pave      IR1         Lvl    AllPub   \n",
       "303          20       RL    13704   Pave      IR1         Lvl    AllPub   \n",
       "\n",
       "    LotConfig LandSlope Neighborhood  ... OpenPorchSF EnclosedPorch 3SsnPorch  \\\n",
       "Id                                    ...                                       \n",
       "619    Inside       Gtl      NridgHt  ...         108             0         0   \n",
       "871    Inside       Gtl        NAmes  ...           0             0         0   \n",
       "93     Inside       Gtl      Crawfor  ...           0            44         0   \n",
       "818   CulDSac       Gtl      Mitchel  ...          59             0         0   \n",
       "303    Corner       Gtl      CollgCr  ...          81             0         0   \n",
       "\n",
       "    ScreenPorch  PoolArea  MiscVal  MoSold  YrSold SaleType SaleCondition  \n",
       "Id                                                                         \n",
       "619         260         0        0       7    2007      New       Partial  \n",
       "871           0         0        0       8    2009       WD        Normal  \n",
       "93            0         0        0       8    2009       WD        Normal  \n",
       "818           0         0        0       7    2008       WD        Normal  \n",
       "303           0         0        0       1    2006       WD        Normal  \n",
       "\n",
       "[5 rows x 60 columns]"
      ]
     },
     "execution_count": 4,
     "metadata": {},
     "output_type": "execute_result"
    }
   ],
   "source": [
    "X_train.head()"
   ]
  },
  {
   "cell_type": "code",
   "execution_count": 5,
   "id": "f23104c7-e5ae-4d0a-b83d-b5f8600685b1",
   "metadata": {},
   "outputs": [],
   "source": [
    "from sklearn.ensemble import RandomForestRegressor\n",
    "from sklearn.metrics import mean_absolute_error\n",
    "\n",
    "# function for comparing different approaches\n",
    "def score_dataset(X_train, X_valid, y_train, y_valid):\n",
    "    model = RandomForestRegressor(n_estimators=100, random_state=0)\n",
    "    model.fit(X_train, y_train)\n",
    "    preds = model.predict(X_valid)\n",
    "    return mean_absolute_error(y_valid, preds)"
   ]
  },
  {
   "cell_type": "code",
   "execution_count": 6,
   "id": "eeffca3b-7138-46c2-a703-273d3a8c625e",
   "metadata": {},
   "outputs": [
    {
     "ename": "NameError",
     "evalue": "name 'Pipeline' is not defined",
     "output_type": "error",
     "traceback": [
      "\u001b[1;31m---------------------------------------------------------------------------\u001b[0m",
      "\u001b[1;31mNameError\u001b[0m                                 Traceback (most recent call last)",
      "\u001b[1;32m<ipython-input-6-43acacd1759b>\u001b[0m in \u001b[0;36m<module>\u001b[1;34m\u001b[0m\n\u001b[0;32m      3\u001b[0m                     X_train[cname].dtype == \"object\"]\n\u001b[0;32m      4\u001b[0m \u001b[1;33m\u001b[0m\u001b[0m\n\u001b[1;32m----> 5\u001b[1;33m categorical_transformer = Pipeline(steps=[\n\u001b[0m\u001b[0;32m      6\u001b[0m     \u001b[1;33m(\u001b[0m\u001b[1;34m'imputer'\u001b[0m\u001b[1;33m,\u001b[0m \u001b[0mSimpleImputer\u001b[0m\u001b[1;33m(\u001b[0m\u001b[0mstrategy\u001b[0m\u001b[1;33m=\u001b[0m\u001b[1;34m'most_frequent'\u001b[0m\u001b[1;33m)\u001b[0m\u001b[1;33m)\u001b[0m\u001b[1;33m,\u001b[0m\u001b[1;33m\u001b[0m\u001b[1;33m\u001b[0m\u001b[0m\n\u001b[0;32m      7\u001b[0m     \u001b[1;33m(\u001b[0m\u001b[1;34m'onehot'\u001b[0m\u001b[1;33m,\u001b[0m \u001b[0mOneHotEncoder\u001b[0m\u001b[1;33m(\u001b[0m\u001b[0mhandle_unknown\u001b[0m\u001b[1;33m=\u001b[0m\u001b[1;34m'ignore'\u001b[0m\u001b[1;33m)\u001b[0m\u001b[1;33m)\u001b[0m\u001b[1;33m\u001b[0m\u001b[1;33m\u001b[0m\u001b[0m\n",
      "\u001b[1;31mNameError\u001b[0m: name 'Pipeline' is not defined"
     ]
    }
   ],
   "source": [
    "categorical_cols = [cname for cname in X_train.columns if\n",
    "                    X_train[cname].nunique() < 10 and \n",
    "                    X_train[cname].dtype == \"object\"]\n",
    "\n",
    "categorical_transformer = Pipeline(steps=[\n",
    "    ('imputer', SimpleImputer(strategy='most_frequent')),\n",
    "    ('onehot', OneHotEncoder(handle_unknown='ignore'))\n",
    "])\n",
    "\n",
    "preprocessor = ColumnTransformer(\n",
    "    transformers=[\n",
    "        ('cat', categorical_transformer, categorical_cols)\n",
    "    ])\n",
    "\n",
    "clf = Pipeline(steps=[('preprocessor', preprocessor)])\n",
    "\n",
    "clf.fit(X_train, y_train)\n",
    "\n",
    "pd.reset_option('max_columns')\n",
    "\n",
    "pd.reset_option('max_rows')"
   ]
  },
  {
   "cell_type": "code",
   "execution_count": 7,
   "id": "6bfe928d-b531-456a-832e-ecf7b56755ea",
   "metadata": {},
   "outputs": [
    {
     "data": {
      "text/plain": [
       "Index(['MSSubClass', 'MSZoning', 'LotArea', 'Street', 'LotShape',\n",
       "       'LandContour', 'Utilities', 'LotConfig', 'LandSlope', 'Neighborhood',\n",
       "       'Condition1', 'Condition2', 'BldgType', 'HouseStyle', 'OverallQual',\n",
       "       'OverallCond', 'YearBuilt', 'YearRemodAdd', 'RoofStyle', 'RoofMatl',\n",
       "       'Exterior1st', 'Exterior2nd', 'ExterQual', 'ExterCond', 'Foundation',\n",
       "       'BsmtFinSF1', 'BsmtFinSF2', 'BsmtUnfSF', 'TotalBsmtSF', 'Heating',\n",
       "       'HeatingQC', 'CentralAir', '1stFlrSF', '2ndFlrSF', 'LowQualFinSF',\n",
       "       'GrLivArea', 'BsmtFullBath', 'BsmtHalfBath', 'FullBath', 'HalfBath',\n",
       "       'BedroomAbvGr', 'KitchenAbvGr', 'KitchenQual', 'TotRmsAbvGrd',\n",
       "       'Functional', 'Fireplaces', 'GarageCars', 'GarageArea', 'PavedDrive',\n",
       "       'WoodDeckSF', 'OpenPorchSF', 'EnclosedPorch', '3SsnPorch',\n",
       "       'ScreenPorch', 'PoolArea', 'MiscVal', 'MoSold', 'YrSold', 'SaleType',\n",
       "       'SaleCondition'],\n",
       "      dtype='object')"
      ]
     },
     "execution_count": 7,
     "metadata": {},
     "output_type": "execute_result"
    }
   ],
   "source": [
    "X_train.columns"
   ]
  },
  {
   "cell_type": "code",
   "execution_count": 8,
   "id": "a98d8b84-4efb-4e92-9928-377d00085e2b",
   "metadata": {},
   "outputs": [],
   "source": [
    "# Categorical columns in the training data\n",
    "object_cols = [col for col in X_train.columns if X_train[col].dtype == \"object\"]\n",
    "\n",
    "# Columns that can be safely ordinal encoded\n",
    "good_label_cols = [col for col in object_cols if \n",
    "                   set(X_valid[col]).issubset(set(X_train[col]))]\n",
    "        \n",
    "# Problematic columns that will be dropped from the dataset\n",
    "bad_label_cols = list(set(object_cols)-set(good_label_cols))"
   ]
  },
  {
   "cell_type": "code",
   "execution_count": 9,
   "id": "0630523b-2231-4fac-859b-d4da836ee6f9",
   "metadata": {},
   "outputs": [
    {
     "data": {
      "text/plain": [
       "['MSZoning',\n",
       " 'Street',\n",
       " 'LotShape',\n",
       " 'LandContour',\n",
       " 'Utilities',\n",
       " 'LotConfig',\n",
       " 'LandSlope',\n",
       " 'Neighborhood',\n",
       " 'Condition1',\n",
       " 'Condition2',\n",
       " 'BldgType',\n",
       " 'HouseStyle',\n",
       " 'RoofStyle',\n",
       " 'RoofMatl',\n",
       " 'Exterior1st',\n",
       " 'Exterior2nd',\n",
       " 'ExterQual',\n",
       " 'ExterCond',\n",
       " 'Foundation',\n",
       " 'Heating',\n",
       " 'HeatingQC',\n",
       " 'CentralAir',\n",
       " 'KitchenQual',\n",
       " 'Functional',\n",
       " 'PavedDrive',\n",
       " 'SaleType',\n",
       " 'SaleCondition']"
      ]
     },
     "execution_count": 9,
     "metadata": {},
     "output_type": "execute_result"
    }
   ],
   "source": [
    "object_cols"
   ]
  },
  {
   "cell_type": "code",
   "execution_count": 10,
   "id": "1552b58a-2bb7-4742-a713-d47b5745c551",
   "metadata": {},
   "outputs": [
    {
     "data": {
      "text/plain": [
       "array([[1., 0., 0., ..., 0., 0., 1.],\n",
       "       [1., 0., 0., ..., 0., 1., 0.],\n",
       "       [0., 1., 0., ..., 0., 1., 0.],\n",
       "       ...,\n",
       "       [0., 0., 0., ..., 0., 1., 0.],\n",
       "       [0., 0., 0., ..., 0., 1., 0.],\n",
       "       [0., 0., 0., ..., 0., 1., 0.]])"
      ]
     },
     "execution_count": 10,
     "metadata": {},
     "output_type": "execute_result"
    }
   ],
   "source": [
    "OH_encoder = OneHotEncoder(handle_unknown='ignore', sparse=False)\n",
    "OH_encoder.fit_transform(X_train)"
   ]
  },
  {
   "cell_type": "code",
   "execution_count": 11,
   "id": "e3db2fde-b985-4753-8f82-2ffdefe9625f",
   "metadata": {},
   "outputs": [],
   "source": [
    "OH_encoder = OneHotEncoder(handle_unknown='ignore', sparse=False)\n",
    "OH_cols_train = pd.DataFrame(OH_encoder.fit_transform(X_train[good_label_cols]))\n",
    "OH_cols_valid = pd.DataFrame(OH_encoder.transform(X_valid[good_label_cols]))    \n",
    "                                                         \n",
    "OH_cols_train.index = X_train.index\n",
    "OH_cols_valid.index = X_valid.index\n",
    "\n",
    "OH_cols_train.columns = OH_encoder.get_feature_names(good_label_cols)\n",
    "OH_cols_valid.columns = OH_encoder.get_feature_names(good_label_cols)\n",
    "\n",
    "num_X_train = X_train.drop(object_cols, axis=1)\n",
    "num_X_valid = X_valid.drop(object_cols, axis=1)\n",
    "\n",
    "OH_X_train = pd.concat([num_X_train, OH_cols_train], axis=1)\n",
    "OH_X_valid = pd.concat([num_X_valid, OH_cols_valid], axis=1)\n",
    "\n",
    "OH_X_train.sort_index(inplace=True)\n",
    "OH_X_valid.sort_index(inplace=True)"
   ]
  },
  {
   "cell_type": "code",
   "execution_count": 12,
   "id": "b4797955-716f-4b8e-ae98-199fc01f2bb6",
   "metadata": {
    "tags": []
   },
   "outputs": [],
   "source": [
    "X_train_columns = list(X_train.columns)"
   ]
  },
  {
   "cell_type": "code",
   "execution_count": 13,
   "id": "e2af1a49-5181-43e3-a074-9859b55f11b9",
   "metadata": {},
   "outputs": [
    {
     "data": {
      "text/plain": [
       "Index(['MSSubClass', 'MSZoning', 'LotArea', 'Street', 'LotShape',\n",
       "       'LandContour', 'Utilities', 'LotConfig', 'LandSlope', 'Neighborhood',\n",
       "       'Condition1', 'Condition2', 'BldgType', 'HouseStyle', 'OverallQual',\n",
       "       'OverallCond', 'YearBuilt', 'YearRemodAdd', 'RoofStyle', 'RoofMatl',\n",
       "       'Exterior1st', 'Exterior2nd', 'ExterQual', 'ExterCond', 'Foundation',\n",
       "       'BsmtFinSF1', 'BsmtFinSF2', 'BsmtUnfSF', 'TotalBsmtSF', 'Heating',\n",
       "       'HeatingQC', 'CentralAir', '1stFlrSF', '2ndFlrSF', 'LowQualFinSF',\n",
       "       'GrLivArea', 'BsmtFullBath', 'BsmtHalfBath', 'FullBath', 'HalfBath',\n",
       "       'BedroomAbvGr', 'KitchenAbvGr', 'KitchenQual', 'TotRmsAbvGrd',\n",
       "       'Functional', 'Fireplaces', 'GarageCars', 'GarageArea', 'PavedDrive',\n",
       "       'WoodDeckSF', 'OpenPorchSF', 'EnclosedPorch', '3SsnPorch',\n",
       "       'ScreenPorch', 'PoolArea', 'MiscVal', 'MoSold', 'YrSold', 'SaleType',\n",
       "       'SaleCondition'],\n",
       "      dtype='object')"
      ]
     },
     "execution_count": 13,
     "metadata": {},
     "output_type": "execute_result"
    }
   ],
   "source": [
    "X_train.columns"
   ]
  },
  {
   "cell_type": "code",
   "execution_count": 14,
   "id": "5d77c243-1098-41ab-a77f-4c3df23288df",
   "metadata": {},
   "outputs": [
    {
     "data": {
      "text/plain": [
       "['MSSubClass',\n",
       " 'MSZoning',\n",
       " 'LotArea',\n",
       " 'Street',\n",
       " 'LotShape',\n",
       " 'LandContour',\n",
       " 'Utilities',\n",
       " 'LotConfig',\n",
       " 'LandSlope',\n",
       " 'Neighborhood',\n",
       " 'Condition1',\n",
       " 'Condition2',\n",
       " 'BldgType',\n",
       " 'HouseStyle',\n",
       " 'OverallQual',\n",
       " 'OverallCond',\n",
       " 'YearBuilt',\n",
       " 'YearRemodAdd',\n",
       " 'RoofStyle',\n",
       " 'RoofMatl',\n",
       " 'Exterior1st',\n",
       " 'Exterior2nd',\n",
       " 'ExterQual',\n",
       " 'ExterCond',\n",
       " 'Foundation',\n",
       " 'BsmtFinSF1',\n",
       " 'BsmtFinSF2',\n",
       " 'BsmtUnfSF',\n",
       " 'TotalBsmtSF',\n",
       " 'Heating',\n",
       " 'HeatingQC',\n",
       " 'CentralAir',\n",
       " '1stFlrSF',\n",
       " '2ndFlrSF',\n",
       " 'LowQualFinSF',\n",
       " 'GrLivArea',\n",
       " 'BsmtFullBath',\n",
       " 'BsmtHalfBath',\n",
       " 'FullBath',\n",
       " 'HalfBath',\n",
       " 'BedroomAbvGr',\n",
       " 'KitchenAbvGr',\n",
       " 'KitchenQual',\n",
       " 'TotRmsAbvGrd',\n",
       " 'Functional',\n",
       " 'Fireplaces',\n",
       " 'GarageCars',\n",
       " 'GarageArea',\n",
       " 'PavedDrive',\n",
       " 'WoodDeckSF',\n",
       " 'OpenPorchSF',\n",
       " 'EnclosedPorch',\n",
       " '3SsnPorch',\n",
       " 'ScreenPorch',\n",
       " 'PoolArea',\n",
       " 'MiscVal',\n",
       " 'MoSold',\n",
       " 'YrSold',\n",
       " 'SaleType',\n",
       " 'SaleCondition']"
      ]
     },
     "execution_count": 14,
     "metadata": {},
     "output_type": "execute_result"
    }
   ],
   "source": [
    "X_train_columns"
   ]
  },
  {
   "cell_type": "code",
   "execution_count": 15,
   "id": "339dc661-08d7-4c05-8171-c8183c339faf",
   "metadata": {},
   "outputs": [
    {
     "data": {
      "text/plain": [
       "['MSZoning_C (all)',\n",
       " 'MSZoning_FV',\n",
       " 'MSZoning_RH',\n",
       " 'MSZoning_RL',\n",
       " 'MSZoning_RM']"
      ]
     },
     "execution_count": 15,
     "metadata": {},
     "output_type": "execute_result"
    }
   ],
   "source": [
    "\n",
    "matching = [s for s in OH_X_train if good_label_cols[0] in s]\n",
    "matching"
   ]
  },
  {
   "cell_type": "code",
   "execution_count": 16,
   "id": "f06a7f9a-3429-45dc-a7b2-741de00a3832",
   "metadata": {},
   "outputs": [],
   "source": [
    "\"\"\"\n",
    "L'obiettivo è riordinare le colonne modificate e farle mettere al giusto posto nel dataframe\n",
    "Per fare questa dovrai creare una lista con i nomi delle colonne nel corretto ordine e poi riordinare il pd completo basandoti sulla lista\n",
    "\n",
    "Inizi creando una lista vuota OH_column_names che sarà una lista di liste\n",
    "Ogni lista in OH_column_names è formata dai titoli delle nuove features modificate\n",
    "\n",
    "Sfruttando l'index delle feature da modificare nella lista iniziale puoi inserire le giuste colonne figlie subito dopo quelle padri\n",
    "\n",
    "Poi finirai il tutto eliminando i nomi delle feature genitori e avrai la lista finale che poi userai come rierimento\n",
    "\n",
    "\"\"\"\n",
    "\n",
    "\"\"\"\n",
    "OH_column_names : list of list\n",
    "    Every element of OH_colum_names is a list containing the names of the\n",
    "    columns generated from one encoded column. \n",
    "\"\"\"\n",
    "\n",
    "# you start creating a list of list \n",
    "OH_column_names = []\n",
    "for i in range(len(good_label_cols)):\n",
    "    \n",
    "    # The argument of the append is a list comprehension that for each feature to\n",
    "    OH_column_names.append([col_name for col_name in OH_X_train if good_label_cols[i] in col_name])\n",
    "    index = X_train_columns.index(good_label_cols[i])+1\n",
    "    X_train_columns[index:index] = OH_column_names[i]"
   ]
  },
  {
   "cell_type": "code",
   "execution_count": 17,
   "id": "bec70d0e-2440-4aa8-afb0-596782ba2681",
   "metadata": {},
   "outputs": [
    {
     "data": {
      "text/plain": [
       "Index(['MSSubClass', 'LotArea', 'OverallQual', 'OverallCond', 'YearBuilt',\n",
       "       'YearRemodAdd', 'BsmtFinSF1', 'BsmtFinSF2', 'BsmtUnfSF', 'TotalBsmtSF',\n",
       "       ...\n",
       "       'SaleType_ConLw', 'SaleType_New', 'SaleType_Oth', 'SaleType_WD',\n",
       "       'SaleCondition_Abnorml', 'SaleCondition_AdjLand',\n",
       "       'SaleCondition_Alloca', 'SaleCondition_Family', 'SaleCondition_Normal',\n",
       "       'SaleCondition_Partial'],\n",
       "      dtype='object', length=192)"
      ]
     },
     "execution_count": 17,
     "metadata": {},
     "output_type": "execute_result"
    }
   ],
   "source": [
    "OH_X_train.columns"
   ]
  },
  {
   "cell_type": "code",
   "execution_count": 18,
   "id": "9c4b51f1-5179-4f2e-a1ad-5601e11718ed",
   "metadata": {},
   "outputs": [],
   "source": [
    "L = ['a', 'b', 'c']\n",
    "L2 = [3, 1, 2]\n",
    "new_L = [[L[0], L2[0]]]\n",
    "         \n",
    "for i in range(1, len(L)):\n",
    "    new_L.append([L[i], L2[i]]) \n",
    "\n"
   ]
  },
  {
   "cell_type": "code",
   "execution_count": 19,
   "id": "ad9ed77f-bba0-4fc9-9435-aaa42aa6b14a",
   "metadata": {},
   "outputs": [
    {
     "data": {
      "text/plain": [
       "[['a', 3], ['b', 1], ['c', 2]]"
      ]
     },
     "execution_count": 19,
     "metadata": {},
     "output_type": "execute_result"
    }
   ],
   "source": [
    "new_L"
   ]
  },
  {
   "cell_type": "code",
   "execution_count": 20,
   "id": "73d343b6-fc19-4d76-974d-3e4de47e9024",
   "metadata": {},
   "outputs": [
    {
     "data": {
      "text/plain": [
       "[['b', 1], ['c', 2], ['a', 3]]"
      ]
     },
     "execution_count": 20,
     "metadata": {},
     "output_type": "execute_result"
    }
   ],
   "source": [
    "from operator import itemgetter\n",
    "sorted(new_L, key=itemgetter(1))"
   ]
  },
  {
   "cell_type": "code",
   "execution_count": 21,
   "id": "986d70e4-cb26-48d3-bfe6-c10eb303d204",
   "metadata": {
    "tags": []
   },
   "outputs": [],
   "source": [
    "import numpy as np\n",
    "import pandas as pd\n",
    "from sklearn.preprocessing import OrdinalEncoder\n",
    "from sklearn.preprocessing import OneHotEncoder\n",
    "from sklearn.base import BaseEstimator, TransformerMixin\n",
    "from sklearn.compose import ColumnTransformer\n",
    "\n",
    "class EncoderSwitcher(BaseEstimator, TransformerMixin):\n",
    "    def __init__(self, max_num_columns=1, total=False, copy=True):\n",
    "        self.max_num_columns = max_num_columns\n",
    "        self.total = total\n",
    "        self.copy = True\n",
    "        self.object_cols = None\n",
    "        self.OHE_cols = None\n",
    "        self.OE_cols = None\n",
    "        \n",
    "    def _switcher(self, X):\n",
    "        # object_cols : list of the names of the categorical colummns\n",
    "        self.object_cols = [col for col in X.columns if X[col].dtype == \"object\"]\n",
    "        self.OHE_cols = []\n",
    "        self.OE_cols = []\n",
    "        # Check if total False or true\n",
    "        if self.total == False:\n",
    "            # Creating OHE_cols and OE_cols\n",
    "            for col in self.object_cols:\n",
    "                if X[col].nunique() <= self.max_num_columns:\n",
    "                    self.OHE_cols.append(col)\n",
    "                else:\n",
    "                    self.OE_cols.append(col)\n",
    "        else:\n",
    "            # creating a list with every i-element is a list of two\n",
    "            #   * self.object_cols[i]\n",
    "            #   * the num of unique element of that categorical column\n",
    "            num_cols_list = [[self.object_cols[0], X[self.object_cols[0]].nunique()]]\n",
    "            for i in range(1, len(self.object_cols)):\n",
    "                num_cols_list.append([self.object_cols[i], X[self.object_cols[i]].nunique()])\n",
    "\n",
    "            # we will now sort this list in an ascending order based on\n",
    "            # the number of unique elements\n",
    "            sorted(num_cols_list, key=itemgetter(1))\n",
    "\n",
    "            # we will now select which column are OneHotEncoded\n",
    "            # and which one are OrdinalEncoded\n",
    "            num_columns = 0\n",
    "            index = 0\n",
    "            for i in range(len(self.object_cols)):\n",
    "                if num_columns + num_cols_list[i][1] <= self.max_num_columns:\n",
    "                    self.OHE_cols.append(num_cols_list[i][0])\n",
    "                    num_columns += num_cols_list[i][1]\n",
    "                else:\n",
    "                    self.OE_cols.append(num_cols_list[i][0])\n",
    "            \n",
    "        return self\n",
    "    \n",
    "    def _sorter(self,X):\n",
    "        \n",
    "        return self\n",
    "    \n",
    "    def fit(self, X, y=None):\n",
    "        \n",
    "        self._switcher(X)\n",
    "        \n",
    "        self.OH_encoder = OneHotEncoder(handle_unknown='ignore', sparse=False)\n",
    "        self.ordinal_encoder = OrdinalEncoder()\n",
    "        \n",
    "        self.OH_encoder.fit(X[self.OHE_cols])\n",
    "        self.ordinal_encoder.fit(X[self.OE_cols])\n",
    "        \n",
    "        return self\n",
    "      \n",
    "    def transform(self, X):\n",
    "        OHE_X = pd.DataFrame(self.OH_encoder.transform(X[self.OHE_cols]))\n",
    "        OE_X = pd.DataFrame(self.ordinal_encoder.transform(X[self.OE_cols]))\n",
    "        return OHE_X, OE_X, self.OHE_cols, self.OE_cols\n"
   ]
  },
  {
   "cell_type": "code",
   "execution_count": 50,
   "id": "dcab3de4-bab5-48c8-9dd8-a2a81d9ae9cf",
   "metadata": {},
   "outputs": [],
   "source": [
    "d = {'col1': ['a', 'c', 'b', 'b', 'c'], 'col2': ['a', 'a', 'a', 'a', 'a'] , 'col3': [12 , 'c', 'b', 'd', 'e'], 'col4': ['b', 'b', 'b', 'b', 'b'], 'col5': [12.01, 10, 13, 14, 12]}\n",
    "df = pd.DataFrame(data=d)\n"
   ]
  },
  {
   "cell_type": "code",
   "execution_count": 51,
   "id": "39d892d7-2459-4df7-b6a7-d260c9012be4",
   "metadata": {},
   "outputs": [],
   "source": [
    "DF = pd.DataFrame(df.values)"
   ]
  },
  {
   "cell_type": "code",
   "execution_count": 54,
   "id": "fbf2ba6b-1b11-4758-99d1-a8ce72cca7dc",
   "metadata": {},
   "outputs": [],
   "source": [
    "DF_N = DF.convert_dtypes(convert_string = False)"
   ]
  },
  {
   "cell_type": "code",
   "execution_count": 55,
   "id": "c2285d53-caea-4c4d-bb77-f0735a6c9185",
   "metadata": {},
   "outputs": [
    {
     "data": {
      "text/plain": [
       "0     object\n",
       "1     object\n",
       "2     object\n",
       "3     object\n",
       "4    Float64\n",
       "dtype: object"
      ]
     },
     "execution_count": 55,
     "metadata": {},
     "output_type": "execute_result"
    }
   ],
   "source": [
    "DF_N.dtypes"
   ]
  },
  {
   "cell_type": "code",
   "execution_count": null,
   "id": "cabba7d2-c38c-4095-a4fa-034450be905e",
   "metadata": {
    "tags": []
   },
   "outputs": [],
   "source": [
    "Enc = EncoderSwitcher(max_num_columns=3, total=False)"
   ]
  },
  {
   "cell_type": "code",
   "execution_count": null,
   "id": "979561cb-5aa1-491a-9555-51493acc1e66",
   "metadata": {},
   "outputs": [],
   "source": [
    "Enc.fit(df)\n"
   ]
  },
  {
   "cell_type": "code",
   "execution_count": null,
   "id": "1d2ea789-5441-4866-8dc8-091104fe6ab9",
   "metadata": {},
   "outputs": [],
   "source": [
    "OHE_X, OE_X, OHE_cols, OE_cols = Enc.transform(df)"
   ]
  },
  {
   "cell_type": "code",
   "execution_count": null,
   "id": "b5ae5694-654e-4e26-8242-0f6be2dd9e6f",
   "metadata": {},
   "outputs": [],
   "source": [
    "OHE_X"
   ]
  },
  {
   "cell_type": "code",
   "execution_count": null,
   "id": "4f1bdd14-d73a-4dfa-b1e3-3056ee9ab2bc",
   "metadata": {},
   "outputs": [],
   "source": [
    "OE_X"
   ]
  },
  {
   "cell_type": "code",
   "execution_count": null,
   "id": "eb4a7b49-b23a-429b-9c65-083de45a718c",
   "metadata": {},
   "outputs": [],
   "source": [
    "df[OHE_cols]"
   ]
  },
  {
   "cell_type": "code",
   "execution_count": null,
   "id": "703d6583-58c3-49b6-949d-655e4afd8710",
   "metadata": {},
   "outputs": [],
   "source": [
    "df[OE_cols]"
   ]
  },
  {
   "cell_type": "code",
   "execution_count": null,
   "id": "4dfc3f60-a9f9-4505-aee7-e308f60c7f92",
   "metadata": {},
   "outputs": [],
   "source": [
    "categorical_transformer = Pipeline(steps=[\n",
    "    ('onehot', EncoderSwitcher())\n",
    "])\n",
    "\n",
    "preprocessor = ColumnTransformer(\n",
    "    transformers=[\n",
    "        ('cat', categorical_transformer, df.columns)\n",
    "    ])\n",
    "\n",
    "model = RandomForestRegressor(n_estimators=100, random_state=0)\n",
    "\n",
    "\n",
    "clf = Pipeline(steps=[('preprocessor', preprocessor),\n",
    "                     ])\n",
    "\n",
    "clf.fit(df)\n",
    "\n",
    "display(df)"
   ]
  },
  {
   "cell_type": "code",
   "execution_count": null,
   "id": "17e0ea8d-d768-4da6-8274-264663762fa3",
   "metadata": {},
   "outputs": [],
   "source": [
    "df2 = pipe.transform(df)"
   ]
  },
  {
   "cell_type": "code",
   "execution_count": null,
   "id": "7f01c034-5078-4516-90dd-f1bdce8bd339",
   "metadata": {},
   "outputs": [],
   "source": [
    "df2"
   ]
  },
  {
   "cell_type": "code",
   "execution_count": null,
   "id": "d270f815-51ef-42fe-ae83-58ffdfb878bc",
   "metadata": {},
   "outputs": [],
   "source": []
  }
 ],
 "metadata": {
  "kernelspec": {
   "display_name": "Python 3",
   "language": "python",
   "name": "python3"
  },
  "language_info": {
   "codemirror_mode": {
    "name": "ipython",
    "version": 3
   },
   "file_extension": ".py",
   "mimetype": "text/x-python",
   "name": "python",
   "nbconvert_exporter": "python",
   "pygments_lexer": "ipython3",
   "version": "3.8.8"
  }
 },
 "nbformat": 4,
 "nbformat_minor": 5
}
